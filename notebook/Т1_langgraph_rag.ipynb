{
  "cells": [
    {
      "cell_type": "markdown",
      "id": "fPjy-iZXJ1Kv",
      "metadata": {
        "id": "fPjy-iZXJ1Kv"
      },
      "source": [
        "[![Open in Colab](https://colab.research.google.com/assets/colab-badge.svg)](https://colab.research.google.com/github/Archkras/T1_test/blob/main/notebook/T1_langgraph_rag.ipynb)"
      ]
    },
    {
      "cell_type": "markdown",
      "id": "5afcaed0-3d55-4e1f-95d3-c32c751c29d8",
      "metadata": {
        "id": "5afcaed0-3d55-4e1f-95d3-c32c751c29d8",
        "jp-MarkdownHeadingCollapsed": true
      },
      "source": [
        "# Adaptive RAG"
      ]
    },
    {
      "cell_type": "markdown",
      "id": "a85501ca-eb89-4795-aeab-cdab050ead6b",
      "metadata": {
        "id": "a85501ca-eb89-4795-aeab-cdab050ead6b"
      },
      "source": [
        "## Setup\n",
        "\n",
        "First, let's install our required packages and set our API keys"
      ]
    },
    {
      "cell_type": "code",
      "execution_count": 1,
      "id": "53d1a740-9fea-4a6e-8f95-fb9dbf1c80a1",
      "metadata": {
        "id": "53d1a740-9fea-4a6e-8f95-fb9dbf1c80a1"
      },
      "outputs": [],
      "source": [
        "%%capture --no-stderr\n",
        "! pip install -U langchain_community tiktoken langchain-openai langchain-cohere langchainhub chromadb langchain langgraph  tavily-python"
      ]
    },
    {
      "cell_type": "code",
      "execution_count": 2,
      "id": "8OZyahNvnwDg",
      "metadata": {
        "id": "8OZyahNvnwDg"
      },
      "outputs": [],
      "source": [
        "%load_ext autoreload\n",
        "%autoreload 2\n",
        "\n",
        "from google.colab import userdata\n",
        "import os\n",
        "from pprint import pprint, pformat\n",
        "\n",
        "OPENAI_API_KEY = \"\" # add you OPENAI_API_KEY here\n",
        "TAVILY_API_KEY = \"\" # add you TAVILY_API_KEY here\n",
        "\n",
        "os.environ[\"OPENAI_API_KEY\"]= OPENAI_API_KEY if OPENAI_API_KEY else userdata.get('OPENAI_API_KEY1')\n",
        "os.environ[\"TAVILY_API_KEY\"] = TAVILY_API_KEY if TAVILY_API_KEY else userdata.get('TAVILY_KEY')\n",
        "\n",
        "#os.environ[\"LANGSMITH_TRACING\"]=\"true\"\n",
        "# os.environ[\"LANGCHAIN_TRACING_V2\"] = \"true\"\n",
        "# os.environ[\"LANGSMITH_ENDPOINT\"]=userdata.get('LANGSMITH_ENDPOINT')\n",
        "# os.environ[\"LANGSMITH_API_KEY\"]=userdata.get('LANGSMITH_API_KEY')\n",
        "# os.environ[\"LANGSMITH_PROJECT\"]=\"T1_case\""
      ]
    },
    {
      "cell_type": "code",
      "execution_count": 3,
      "id": "222f204d-956f-4128-b597-2c698120edda",
      "metadata": {
        "id": "222f204d-956f-4128-b597-2c698120edda"
      },
      "outputs": [],
      "source": [
        "# import getpass\n",
        "# import os\n",
        "\n",
        "\n",
        "# def _set_env(var: str):\n",
        "#     if not os.environ.get(var):\n",
        "#         os.environ[var] = getpass.getpass(f\"{var}: \")\n",
        "\n",
        "\n",
        "# _set_env(\"OPENAI_API_KEY\")\n",
        "# _set_env(\"COHERE_API_KEY\")\n",
        "# _set_env(\"TAVILY_API_KEY\")"
      ]
    },
    {
      "cell_type": "markdown",
      "id": "47e04b18",
      "metadata": {
        "id": "47e04b18"
      },
      "source": [
        "<div class=\"admonition tip\">\n",
        "    <p class=\"admonition-title\">Set up <a href=\"https://smith.langchain.com\">LangSmith</a> for LangGraph development</p>\n",
        "    <p style=\"padding-top: 5px;\">\n",
        "        Sign up for LangSmith to quickly spot issues and improve the performance of your LangGraph projects. LangSmith lets you use trace data to debug, test, and monitor your LLM apps built with LangGraph — read more about how to get started <a href=\"https://docs.smith.langchain.com\">here</a>.\n",
        "    </p>\n",
        "</div>    "
      ]
    },
    {
      "cell_type": "code",
      "execution_count": 4,
      "id": "2G2gzOeTwHO2",
      "metadata": {
        "id": "2G2gzOeTwHO2"
      },
      "outputs": [],
      "source": [
        "#pip install docling"
      ]
    },
    {
      "cell_type": "markdown",
      "id": "8Bbclnx-w9AU",
      "metadata": {
        "id": "8Bbclnx-w9AU"
      },
      "source": [
        "# Load dataset Lenta"
      ]
    },
    {
      "cell_type": "code",
      "execution_count": 5,
      "id": "fWB_BW1Sv4PK",
      "metadata": {
        "colab": {
          "base_uri": "https://localhost:8080/"
        },
        "id": "fWB_BW1Sv4PK",
        "outputId": "9224dc06-e2ae-47ed-91e2-28458ac1874e"
      },
      "outputs": [
        {
          "name": "stdout",
          "output_type": "stream",
          "text": [
            "Downloading from https://www.kaggle.com/api/v1/datasets/download/yutkin/corpus-of-russian-news-articles-from-lenta?dataset_version_number=2...\n"
          ]
        },
        {
          "name": "stderr",
          "output_type": "stream",
          "text": [
            "100%|██████████| 584M/584M [00:19<00:00, 30.9MB/s]"
          ]
        },
        {
          "name": "stdout",
          "output_type": "stream",
          "text": [
            "Extracting files...\n"
          ]
        },
        {
          "name": "stderr",
          "output_type": "stream",
          "text": [
            "\n"
          ]
        },
        {
          "name": "stdout",
          "output_type": "stream",
          "text": [
            "Path to dataset files: /root/.cache/kagglehub/datasets/yutkin/corpus-of-russian-news-articles-from-lenta/versions/2\n"
          ]
        }
      ],
      "source": [
        "import kagglehub\n",
        "\n",
        "# Download latest version\n",
        "path = kagglehub.dataset_download(\"yutkin/corpus-of-russian-news-articles-from-lenta\")\n",
        "\n",
        "print(\"Path to dataset files:\", path)"
      ]
    },
    {
      "cell_type": "code",
      "execution_count": 6,
      "id": "kpnqzB4ywYoz",
      "metadata": {
        "colab": {
          "base_uri": "https://localhost:8080/"
        },
        "id": "kpnqzB4ywYoz",
        "outputId": "889348d1-bd31-483c-c734-266d3287e8d3"
      },
      "outputs": [
        {
          "name": "stdout",
          "output_type": "stream",
          "text": [
            "lenta-ru-news.csv\n"
          ]
        }
      ],
      "source": [
        "!ls {path}"
      ]
    },
    {
      "cell_type": "code",
      "execution_count": 7,
      "id": "ChaZdod2wjR7",
      "metadata": {
        "id": "ChaZdod2wjR7"
      },
      "outputs": [],
      "source": [
        "# !mv {path}/lenta-ru-news.csv /content/lenta-ru-news.csv"
      ]
    },
    {
      "cell_type": "code",
      "execution_count": 8,
      "id": "fyJSO6WGwgEJ",
      "metadata": {
        "id": "fyJSO6WGwgEJ"
      },
      "outputs": [],
      "source": [
        "# !ls /kaggle/input/corpus-of-russian-news-articles-from-lenta"
      ]
    },
    {
      "cell_type": "markdown",
      "id": "fsinYV4iLpcl",
      "metadata": {
        "id": "fsinYV4iLpcl"
      },
      "source": [
        "# Create dataset for RAG database and questions for test"
      ]
    },
    {
      "cell_type": "markdown",
      "id": "b5vY18gUHWIt",
      "metadata": {
        "id": "b5vY18gUHWIt"
      },
      "source": [
        "## load csv file"
      ]
    },
    {
      "cell_type": "code",
      "execution_count": 9,
      "id": "uXS5CHrsLiix",
      "metadata": {
        "id": "uXS5CHrsLiix"
      },
      "outputs": [],
      "source": [
        "import csv\n",
        "\n",
        "csv_file = f'{path}/lenta-ru-news.csv'\n",
        "# take part of big dataset\n",
        "take_rows = list(range(100,200)) # do not take 0 row (columns name)\n",
        "row_list_to_load  = [0] + take_rows  #[0, 100, 101, 102, ...]\n",
        "\n",
        "def get_rows_by_numbers(filename, row_numbers, encoding='utf-8-sig'):\n",
        "    \"\"\"Возвращает строки по указанным номерам (начиная с 0)\"\"\"\n",
        "    row_numbers = set(row_numbers)  # Для быстрого поиска\n",
        "    max_row = max(row_numbers)\n",
        "    result = []\n",
        "\n",
        "    with open(filename, 'r', encoding=encoding) as f:\n",
        "        reader = csv.reader(f)\n",
        "        for i, row in enumerate(reader):\n",
        "            if i > max_row:\n",
        "                break\n",
        "            if i in row_numbers:\n",
        "                result.append(row)\n",
        "\n",
        "    return result\n",
        "\n",
        "\n",
        "# get columns and rows\n",
        "columns, *rows = get_rows_by_numbers(csv_file, row_list_to_load)\n",
        "\n"
      ]
    },
    {
      "cell_type": "code",
      "execution_count": 10,
      "id": "TaIj_3imN5Pd",
      "metadata": {
        "colab": {
          "base_uri": "https://localhost:8080/"
        },
        "id": "TaIj_3imN5Pd",
        "outputId": "f65c3bb8-e6ca-496e-8c5c-5b33bd41e514"
      },
      "outputs": [
        {
          "name": "stdout",
          "output_type": "stream",
          "text": [
            "['url', 'title', 'text', 'topic', 'tags', 'date']\n",
            "3754\n"
          ]
        }
      ],
      "source": [
        "# columns name and max article length (3754 no need chunking)\n",
        "print(columns)\n",
        "max_l=0\n",
        "for row in rows: #[:2]\n",
        "    max_l = max(max_l, len(row[2]))\n",
        "print(max_l)"
      ]
    },
    {
      "cell_type": "markdown",
      "id": "-TDfeRN4IeQ9",
      "metadata": {
        "id": "-TDfeRN4IeQ9"
      },
      "source": [
        "# Новости для которых сгенерируем вопросы"
      ]
    },
    {
      "cell_type": "code",
      "execution_count": 11,
      "id": "J-dtaAh3SDb8",
      "metadata": {
        "colab": {
          "base_uri": "https://localhost:8080/"
        },
        "id": "J-dtaAh3SDb8",
        "outputId": "4f1f00b5-376f-427d-dec1-0f1b08fb49a6"
      },
      "outputs": [
        {
          "name": "stdout",
          "output_type": "stream",
          "text": [
            "В Южно-Сахалинске отмечена вспышка забол ...  len: 1812\n",
            "По сообщению агентства РИА \"Новости\", 25 ...  len: 1863\n",
            "С космодрома \"Байконур\" в понедельник ос ...  len: 2694\n",
            "Управляющий   деламипрезидента РФ  Павел ...  len: 3414\n",
            "Министерство по налогам и сборам (МНС) в ...  len: 1229\n",
            "Международные нефтяные компании объявили ...  len: 678\n",
            "За последние два дня в Волгограде зареги ...  len: 1265\n",
            "Израильское правительство начало освобож ...  len: 1047\n",
            "Согласно сведениям, поступившим из минис ...  len: 1240\n",
            "На приморском участке российско-китайско ...  len: 1268\n",
            "Китайская кинематография стала абсолютно ...  len: 793\n"
          ]
        }
      ],
      "source": [
        "# articles for relevant questions\n",
        "data_for_q = [rows[x][2] for x in list(range(0,99,9))]\n",
        "for x in data_for_q:\n",
        "  print(f'{x[:40]} ... ', f'len: {len(x)}')\n"
      ]
    },
    {
      "cell_type": "code",
      "execution_count": 12,
      "id": "zgiTOAqZI4XD",
      "metadata": {
        "id": "zgiTOAqZI4XD"
      },
      "outputs": [],
      "source": [
        "# data_for_q"
      ]
    },
    {
      "cell_type": "markdown",
      "id": "YdO72tvvWSrE",
      "metadata": {
        "id": "YdO72tvvWSrE"
      },
      "source": [
        "## Вопросы к текстам релевантные"
      ]
    },
    {
      "cell_type": "code",
      "execution_count": 13,
      "id": "YiaiZR_4MDO3",
      "metadata": {
        "collapsed": true,
        "id": "YiaiZR_4MDO3"
      },
      "outputs": [],
      "source": [
        "# create by chatGPT for data_for_q questions\n",
        "Q_relevant = [\n",
        "\"Какие меры были предприняты в Южно-Сахалинске для борьбы со вспышкой холеры среди жителей поселков Христофоровка и Октябрьский?\",\n",
        "\"Какую сумму, по данным МВД России и американских спецслужб, получил Шамиль Басаев и сколько из этой суммы он уже истратил во время боевой кампании в Дагестане?\",\n",
        "\"Какие спутники были выведены на орбиту с помощью ракеты-носителя 'Протон-К' с космодрома Байконур после двухмесячного перерыва?\",\n",
        "\"За что Павел Бородин планирует подать в суд на газету 'Corriere della Sera' и на некоторые российские СМИ?\",\n",
        "\"Какое основное нарушение налогового законодательства было выявлено Министерством по налогам и сборам при массовых проверках автозаправочных станций?\",\n",
        "\"Сколько, по предварительным данным, составляют запасы газа в открытом месторождении в районе Каспийского моря, относящемся к территории Азербайджана?\",\n",
        "\"Кто является возбудителем менингита в Волгограде, и каким образом этот вирус передается человеку?\",\n",
        "\"Почему Израиль начал освобождение палестинских заключённых и сколько человек вышло на свободу в первой группе?\",\n",
        "\"Какие населённые пункты Чеченской республики были подвергнуты ракетно-бомбовым ударам в ночь и утро, согласно сведениям МВД Чечни?\",\n",
        "\"Какую разработанную учеными систему задержали на приморском участке российско-китайской границы и в чем заключалась её двойная направленность?\",\n",
        "\"Кто получил главный приз 56-го Венецианского международного кинофестиваля и за какой фильм?\"\n",
        "]"
      ]
    },
    {
      "cell_type": "markdown",
      "id": "3JaFS2c9-Woc",
      "metadata": {
        "id": "3JaFS2c9-Woc"
      },
      "source": [
        "## Вопросы к текстам не релевантные"
      ]
    },
    {
      "cell_type": "code",
      "execution_count": 14,
      "id": "pdvkqzzUPZFs",
      "metadata": {
        "id": "pdvkqzzUPZFs"
      },
      "outputs": [],
      "source": [
        "# create questions by chatGPT for school program\n",
        "Q_not_relevant = [\n",
        "    \"Кто написал роман «Война и мир»?\",\n",
        "    \"Назовите столицу Франции.\",\n",
        "    \"Чему равна сумма углов треугольника?\",\n",
        "    \"Кто открыл закон всемирного тяготения?\",\n",
        "    \"Что такое фотосинтез?\",\n",
        "    \"В каком году началась Вторая мировая война?\",\n",
        "    \"Какова формула воды?\",\n",
        "    \"Перечислите падежи русского языка.\",\n",
        "    \"Что показывает географическая широта точки на Земле?\",\n",
        "    \"Какой орган отвечает за перекачивание крови в организме человека?\"\n",
        "]"
      ]
    },
    {
      "cell_type": "markdown",
      "id": "9ac1c2cd-81fb-40eb-8ba1-e9197800cba6",
      "metadata": {
        "id": "9ac1c2cd-81fb-40eb-8ba1-e9197800cba6"
      },
      "source": [
        "# Retrivers"
      ]
    },
    {
      "cell_type": "code",
      "execution_count": 15,
      "id": "b224e5ba-50ca-495a-a7fa-0f75a080e03c",
      "metadata": {
        "colab": {
          "base_uri": "https://localhost:8080/"
        },
        "id": "b224e5ba-50ca-495a-a7fa-0f75a080e03c",
        "outputId": "a2a7819b-1397-4388-b916-f34b47a22960"
      },
      "outputs": [
        {
          "name": "stderr",
          "output_type": "stream",
          "text": [
            "WARNING:langchain_community.utils.user_agent:USER_AGENT environment variable not set, consider setting it to identify your requests.\n"
          ]
        }
      ],
      "source": [
        "### Build Index\n",
        "\n",
        "from langchain.text_splitter import RecursiveCharacterTextSplitter\n",
        "from langchain_community.document_loaders import WebBaseLoader\n",
        "from langchain_community.vectorstores import Chroma\n",
        "from langchain_openai import OpenAIEmbeddings\n",
        "from langchain.schema import Document\n",
        "\n",
        "### from langchain_cohere import CohereEmbeddings\n",
        "\n",
        "# Set embeddings\n",
        "embd = OpenAIEmbeddings()\n",
        "\n",
        "# # Docs to index\n",
        "# urls = [\n",
        "#     \"https://lilianweng.github.io/posts/2023-06-23-agent/\",\n",
        "#     \"https://lilianweng.github.io/posts/2023-03-15-prompt-engineering/\",\n",
        "#     \"https://lilianweng.github.io/posts/2023-10-25-adv-attack-llm/\",\n",
        "# ]\n",
        "\n",
        "# # Load\n",
        "# docs = [WebBaseLoader(url).load() for url in urls]\n",
        "# docs_list = [item for sublist in docs for item in sublist]\n",
        "\n",
        "# # Split\n",
        "# text_splitter = RecursiveCharacterTextSplitter.from_tiktoken_encoder(\n",
        "#     chunk_size=500, chunk_overlap=0\n",
        "# )\n",
        "# doc_splits = text_splitter.split_documents(docs_list)\n",
        "\n"
      ]
    },
    {
      "cell_type": "markdown",
      "id": "bthPpnjJM_j7",
      "metadata": {
        "id": "bthPpnjJM_j7"
      },
      "source": [
        "## Preprocces documents for DB"
      ]
    },
    {
      "cell_type": "code",
      "execution_count": 16,
      "id": "8biGPZMKLHnO",
      "metadata": {
        "id": "8biGPZMKLHnO"
      },
      "outputs": [],
      "source": [
        "doc_without_splits =[]\n",
        "for i, row in enumerate(rows): # ['url', 'title', 'text', 'topic', 'tags', 'date']\n",
        "    doc_without_splits.append(Document(\n",
        "        id=i,\n",
        "        page_content=row[2],\n",
        "        metadata={\"url\": row[0],\n",
        "                  \"title\": row[1],\n",
        "                  \"topic\": row[3],\n",
        "                  \"tags\": row[4],\n",
        "                  \"date\": row[5]\n",
        "                  }\n",
        "    ))\n",
        "\n",
        "#====================================================================================\n",
        "# print(columns)\n",
        "# rows[:3]\n",
        "\n",
        "# dict_keys(['id', 'metadata', 'page_content', 'type'])\n",
        "#                   metadata:\n",
        "#                             dict_keys(['source', 'title', 'description', 'language'])"
      ]
    },
    {
      "cell_type": "code",
      "execution_count": 17,
      "id": "dzsT1CDYpOLb",
      "metadata": {
        "id": "dzsT1CDYpOLb"
      },
      "outputs": [],
      "source": [
        "# check format\n",
        "# from pprint import pprint, pformat\n",
        "# dd = doc_without_splits[0].model_dump()\n",
        "# print(dd.keys())\n",
        "# print(f\"                  metadata: \\n                            {dd['metadata'].keys()}\")"
      ]
    },
    {
      "cell_type": "code",
      "execution_count": 18,
      "id": "LMsqm5iPN8cK",
      "metadata": {
        "id": "LMsqm5iPN8cK"
      },
      "outputs": [],
      "source": [
        "# check doc\n",
        "# doc_without_splits[99].model_dump()"
      ]
    },
    {
      "cell_type": "markdown",
      "id": "1mQKYWIVyBuv",
      "metadata": {
        "id": "1mQKYWIVyBuv"
      },
      "source": [
        "## Create vector DB\n",
        "(Uncommit for create from scratch)"
      ]
    },
    {
      "cell_type": "code",
      "execution_count": 19,
      "id": "RdgO8h9-LIzd",
      "metadata": {
        "id": "RdgO8h9-LIzd"
      },
      "outputs": [],
      "source": [
        "# persist_directory = \"/content/chroma_db\"\n",
        "# # Add to vectorstore\n",
        "# vectorstore = Chroma.from_documents(\n",
        "#     documents=doc_without_splits,\n",
        "#     collection_name=\"rag-chroma\",\n",
        "#     embedding=embd,\n",
        "#     persist_directory=persist_directory\n",
        "\n",
        "# )\n",
        "\n",
        "# retriever = vectorstore.as_retriever()\n"
      ]
    },
    {
      "cell_type": "code",
      "execution_count": 20,
      "id": "1pRQcoH5T2Ri",
      "metadata": {
        "id": "1pRQcoH5T2Ri"
      },
      "outputs": [],
      "source": [
        "# vectorstore._collection.count()"
      ]
    },
    {
      "cell_type": "code",
      "execution_count": 21,
      "id": "GGU0lCT2oSQb",
      "metadata": {
        "id": "GGU0lCT2oSQb"
      },
      "outputs": [],
      "source": [
        "# ret_test =  retriever.invoke(\"что случилось в Южно-Сахалинске?\")\n",
        "# len(ret_test)\n",
        "# ret_test[0].model_dump()"
      ]
    },
    {
      "cell_type": "markdown",
      "id": "d3XjUcOpPLuA",
      "metadata": {
        "id": "d3XjUcOpPLuA"
      },
      "source": [
        "## Store chroma_db"
      ]
    },
    {
      "cell_type": "code",
      "execution_count": 22,
      "id": "dmEZWn_8Ueq2",
      "metadata": {
        "id": "dmEZWn_8Ueq2"
      },
      "outputs": [],
      "source": [
        "# !zip -r chroma_db.zip chroma_db/\n",
        "#!rm -rf chroma_db/"
      ]
    },
    {
      "cell_type": "markdown",
      "id": "rmZ4viEOP25m",
      "metadata": {
        "id": "rmZ4viEOP25m"
      },
      "source": [
        "## Load chroma_db"
      ]
    },
    {
      "cell_type": "code",
      "execution_count": 23,
      "id": "f-FbRJqmKYVV",
      "metadata": {
        "colab": {
          "base_uri": "https://localhost:8080/"
        },
        "id": "f-FbRJqmKYVV",
        "outputId": "ab2933bc-d327-4472-fb1e-54b674b497bc"
      },
      "outputs": [
        {
          "name": "stdout",
          "output_type": "stream",
          "text": [
            "Cloning into 'T1_test'...\n",
            "remote: Enumerating objects: 7, done.\u001b[K\n",
            "remote: Counting objects: 100% (7/7), done.\u001b[K\n",
            "remote: Compressing objects: 100% (6/6), done.\u001b[K\n",
            "remote: Total 7 (delta 1), reused 6 (delta 0), pack-reused 0 (from 0)\u001b[K\n",
            "Receiving objects: 100% (7/7), 1.31 MiB | 1.53 MiB/s, done.\n",
            "Resolving deltas: 100% (1/1), done.\n"
          ]
        }
      ],
      "source": [
        "!git clone https://github.com/Archkras/T1_test.git"
      ]
    },
    {
      "cell_type": "code",
      "execution_count": 24,
      "id": "snwkTHmAP6Xs",
      "metadata": {
        "colab": {
          "base_uri": "https://localhost:8080/"
        },
        "id": "snwkTHmAP6Xs",
        "outputId": "9a3ea165-383c-4e03-a5f7-b97f007df306"
      },
      "outputs": [
        {
          "name": "stdout",
          "output_type": "stream",
          "text": [
            "Archive:  T1_test/chroma_db.zip\n",
            "   creating: chroma_db/\n",
            "   creating: chroma_db/638bc892-3387-48b0-b571-b3d2d6d1141c/\n",
            "  inflating: chroma_db/638bc892-3387-48b0-b571-b3d2d6d1141c/header.bin  \n",
            "  inflating: chroma_db/638bc892-3387-48b0-b571-b3d2d6d1141c/data_level0.bin  \n",
            "  inflating: chroma_db/638bc892-3387-48b0-b571-b3d2d6d1141c/length.bin  \n",
            " extracting: chroma_db/638bc892-3387-48b0-b571-b3d2d6d1141c/link_lists.bin  \n",
            "  inflating: chroma_db/chroma.sqlite3  \n"
          ]
        }
      ],
      "source": [
        "# загружаем chroma_db в папку /content\n",
        "#!mkdir chroma_db\n",
        "# !unzip chroma_db.zip -d chroma_db/\n",
        "!unzip -o T1_test/chroma_db.zip\n"
      ]
    },
    {
      "cell_type": "code",
      "execution_count": 25,
      "id": "SLa7vUgRTLWT",
      "metadata": {
        "colab": {
          "base_uri": "https://localhost:8080/"
        },
        "id": "SLa7vUgRTLWT",
        "outputId": "7ecb5fbd-1c68-4721-c16a-af3258ec7470"
      },
      "outputs": [
        {
          "name": "stderr",
          "output_type": "stream",
          "text": [
            "/tmp/ipython-input-25-879702647.py:2: LangChainDeprecationWarning: The class `Chroma` was deprecated in LangChain 0.2.9 and will be removed in 1.0. An updated version of the class exists in the :class:`~langchain-chroma package and should be used instead. To use it run `pip install -U :class:`~langchain-chroma` and import as `from :class:`~langchain_chroma import Chroma``.\n",
            "  vectorstore = Chroma(\n"
          ]
        },
        {
          "data": {
            "text/plain": [
              "100"
            ]
          },
          "execution_count": 25,
          "metadata": {},
          "output_type": "execute_result"
        }
      ],
      "source": [
        "persist_directory = \"/content/chroma_db/\"\n",
        "vectorstore = Chroma(\n",
        "    persist_directory=persist_directory,\n",
        "    collection_name=\"rag-chroma\",\n",
        "    embedding_function=embd\n",
        ")\n",
        "retriever = vectorstore.as_retriever()\n",
        "vectorstore._collection.count()"
      ]
    },
    {
      "cell_type": "code",
      "execution_count": 26,
      "id": "vo6PzrHwTLTJ",
      "metadata": {
        "colab": {
          "base_uri": "https://localhost:8080/"
        },
        "id": "vo6PzrHwTLTJ",
        "outputId": "1c612b2b-665d-420d-e883-f96effd986cc"
      },
      "outputs": [
        {
          "data": {
            "text/plain": [
              "{'id': None,\n",
              " 'metadata': {'topic': 'Россия',\n",
              "  'date': '1999/09/06',\n",
              "  'url': 'https://lenta.ru/news/1999/09/06/cholera/',\n",
              "  'tags': 'Все',\n",
              "  'title': 'В Южно-Сахалинске заболели холерой 14\\xa0человек'},\n",
              " 'page_content': 'В Южно-Сахалинске отмечена вспышка заболевания холерой. На сегодняшний день заболели уже 14 жителей, 26 являются носителями вируса. Все эти люди и еще 12 человек, имевших контакт с больными, госпитализированы, сообщили РИА \"Новости\" в МЧС РФ. Первые случаи заболевания были отмечены в минувший вторник. Холера вспыхнула среди жителей поселков Христофоровка и Октябрьский, расположенных в районе аэропорта Южно-Сахалинск. Поселки находятся в ведении одной из расположенных поблизости воинских частей. Причиной вспышки вирусного заболевания стало невнимание военных к вопросам санитарии: нерегулярная очистка территории и плохое состояние системы водоснабжения военного городка. Власти области и Южно-Сахалинска ведут в очаге холеры очистку подвальных помещений жилых домов, дезинфикационные мероприятия на реке Хомутовка и роднике. На заседании санитарно-эпидемиологической комиссии, прошедшем сегодня в администрации Сахалинской области, принято решение произвести дополнительные работы по санитарной очистке поселков Христофоровка и Октябрьский. Срок окончания уборки мусора - 15 час 7 сентября, до пятницы - срок сооружения дополнительных выгребных ям - 10 сентября. В связи с тем, что в семьях двух учеников есть заболевшие холерой, в Южно-Сахалинске закрыты на карантин две средние школы. В течение трех дней будут изучаться анализы каждого учащегося, и если холеры не обнаружится, школы вновь начнут работу. Как сообщил сегодня корреспонденту ИТАР-ТАСС исполняющий обязанности главного санитарного врача Сахалинской области Борис Дарижапов, холерный вибрион класса \"огава\", выделенный во внешней среде, идентичен завезенному в Приморье и на Сахалин летом этого года туристами из Китая. Теперь предстоит сложная задача по выявлению круга лиц, общавшихся с больными и сахалинцами, посещавшими соседнюю страну.',\n",
              " 'type': 'Document'}"
            ]
          },
          "execution_count": 26,
          "metadata": {},
          "output_type": "execute_result"
        }
      ],
      "source": [
        "ret_test =  retriever.invoke(\"что случилось в Южно-Сахалинске?\")\n",
        "len(ret_test)\n",
        "ret_test[0].model_dump()"
      ]
    },
    {
      "cell_type": "code",
      "execution_count": 27,
      "id": "n_qBvii_S-1Q",
      "metadata": {
        "colab": {
          "base_uri": "https://localhost:8080/"
        },
        "id": "n_qBvii_S-1Q",
        "outputId": "8fbf0ab1-9815-4b7f-da48-61e3a00942e0"
      },
      "outputs": [
        {
          "name": "stdout",
          "output_type": "stream",
          "text": [
            "/content\n"
          ]
        }
      ],
      "source": [
        "!pwd"
      ]
    },
    {
      "cell_type": "markdown",
      "id": "0f52b427-750c-40f8-8893-e9caab3afd8d",
      "metadata": {
        "id": "0f52b427-750c-40f8-8893-e9caab3afd8d"
      },
      "source": [
        "# LLMs"
      ]
    },
    {
      "cell_type": "code",
      "execution_count": 28,
      "id": "4dec9d98-f3dc-4b7f-abc0-9d01c754f2be",
      "metadata": {
        "colab": {
          "base_uri": "https://localhost:8080/"
        },
        "id": "4dec9d98-f3dc-4b7f-abc0-9d01c754f2be",
        "outputId": "c11ae6a1-f1b2-4c62-e750-bc00888d58e8"
      },
      "outputs": [
        {
          "name": "stdout",
          "output_type": "stream",
          "text": [
            "The autoreload extension is already loaded. To reload it, use:\n",
            "  %reload_ext autoreload\n"
          ]
        }
      ],
      "source": [
        "%load_ext autoreload\n",
        "%autoreload 2\n",
        "\n",
        "from typing import Literal\n",
        "\n",
        "from langchain_core.prompts import ChatPromptTemplate\n",
        "#from langchain_core.pydantic_v1 import BaseModel, Field\n",
        "from pydantic import BaseModel, Field\n",
        "\n",
        "from langchain_openai import ChatOpenAI\n",
        "\n",
        "\n"
      ]
    },
    {
      "cell_type": "markdown",
      "id": "EMM8p8df2bm-",
      "metadata": {
        "id": "EMM8p8df2bm-"
      },
      "source": [
        "## Router (определение соответствия вопроса документам в БД)"
      ]
    },
    {
      "cell_type": "code",
      "execution_count": 29,
      "id": "0kwACtCf6aMm",
      "metadata": {
        "id": "0kwACtCf6aMm"
      },
      "outputs": [],
      "source": [
        "# Data model\n",
        "class RouteQuery(BaseModel):\n",
        "    \"\"\"Route a user query to the most relevant datasource.\"\"\"\n",
        "\n",
        "    datasource: Literal[\"vectorstore\", \"live_assistant\"] = Field(\n",
        "        ...,\n",
        "        description=\"Given a user question choose to route it to live assistant or a vectorstore.\",\n",
        "    )\n",
        "\n",
        "\n",
        "# LLM with function call\n",
        "llm = ChatOpenAI(model=\"gpt-4o-mini\", temperature=0)\n",
        "structured_llm_router = llm.with_structured_output(RouteQuery)\n",
        "\n",
        "# Prompt\n",
        "# system = \"\"\"You are an expert at routing a user question to a vectorstore or web search.\n",
        "# The vectorstore contains documents related to agents, prompt engineering, and adversarial attacks.\n",
        "# Use the vectorstore for questions on these topics. Otherwise, use web-search.\"\"\"\n",
        "\n",
        "system = \"\"\"You are an expert at routing a user question to a vectorstore or live assistant.\n",
        "The vectorstore contains documents related to world wide news.\n",
        "Use the vectorstore for questions on these topics. Otherwise, use live-assistant.\n",
        "If you have doubts about the choice, use vectorstore\"\"\"\n",
        "\n",
        "\n",
        "route_prompt = ChatPromptTemplate.from_messages(\n",
        "    [\n",
        "        (\"system\", system),\n",
        "        (\"human\", \"{question}\"),\n",
        "    ]\n",
        ")\n",
        "\n",
        "question_router = route_prompt | structured_llm_router\n",
        "# print(\n",
        "#     question_router.invoke(\n",
        "#         {\"question\": \"Who will the Bears draft first in the NFL draft?\"}\n",
        "#     )\n",
        "# )\n",
        "# print(question_router.invoke({\"question\": \"What are the types of agent memory?\"}))\n",
        "# print(question_router.invoke({\"question\": \"What are the types of memory cards you now?\"}))\n",
        "# print(question_router.invoke({\"question\": \"Who is agent Smith from Matrix?\"}))\n",
        "# print(question_router.invoke({\"question\": \"что случилось в Южно-Сахалинске?\"}))\n",
        "# test relevant questions (1 error)"
      ]
    },
    {
      "cell_type": "markdown",
      "id": "w2b5hVhH7mHG",
      "metadata": {
        "id": "w2b5hVhH7mHG"
      },
      "source": [
        "### test questions"
      ]
    },
    {
      "cell_type": "code",
      "execution_count": 30,
      "id": "3Uw3eFroVHEB",
      "metadata": {
        "id": "3Uw3eFroVHEB"
      },
      "outputs": [],
      "source": [
        "# test relevant questions (1 error)\n",
        "# for question in Q_relevant:\n",
        "#   print(question)\n",
        "#   print(question_router.invoke({\"question\": question}))\n",
        "#   print()\n",
        "\n",
        "# Какие меры были предприняты в Южно-Сахалинске для борьбы со вспышкой холеры среди жителей поселков Христофоровка и Октябрьский?\n",
        "# datasource='vectorstore'\n",
        "\n",
        "# Какую сумму, по данным МВД России и американских спецслужб, получил Шамиль Басаев и сколько из этой суммы он уже истратил во время боевой кампании в Дагестане?\n",
        "# datasource='vectorstore'\n",
        "\n",
        "# Какие спутники были выведены на орбиту с помощью ракеты-носителя 'Протон-К' с космодрома Байконур после двухмесячного перерыва?\n",
        "# datasource='vectorstore'\n",
        "\n",
        "# За что Павел Бородин планирует подать в суд на газету 'Corriere della Sera' и на некоторые российские СМИ?\n",
        "# datasource='vectorstore'\n",
        "\n",
        "# Какое основное нарушение налогового законодательства было выявлено Министерством по налогам и сборам при массовых проверках автозаправочных станций?\n",
        "# datasource='vectorstore'\n",
        "\n",
        "# Сколько, по предварительным данным, составляют запасы газа в открытом месторождении в районе Каспийского моря, относящемся к территории Азербайджана?\n",
        "# datasource='vectorstore'\n",
        "\n",
        "# Кто является возбудителем менингита в Волгограде, и каким образом этот вирус передается человеку?\n",
        "# datasource='live_assistant' /error !!!!!!!\n",
        "\n",
        "# Почему Израиль начал освобождение палестинских заключённых и сколько человек вышло на свободу в первой группе?\n",
        "# datasource='vectorstore'\n",
        "\n",
        "# Какие населённые пункты Чеченской республики были подвергнуты ракетно-бомбовым ударам в ночь и утро, согласно сведениям МВД Чечни?\n",
        "# datasource='vectorstore'\n",
        "\n",
        "# Какую разработанную учеными систему задержали на приморском участке российско-китайской границы и в чем заключалась её двойная направленность?\n",
        "# datasource='vectorstore'\n",
        "\n",
        "# Кто получил главный приз 56-го Венецианского международного кинофестиваля и за какой фильм?\n",
        "# datasource='vectorstore'"
      ]
    },
    {
      "cell_type": "code",
      "execution_count": 31,
      "id": "d_3oxdsQaER6",
      "metadata": {
        "id": "d_3oxdsQaER6"
      },
      "outputs": [],
      "source": [
        "# test irrelevant questions (0 error)\n",
        "# for question in Q_not_relevant:\n",
        "#   print(question)\n",
        "#   print(question_router.invoke({\"question\": question}))\n",
        "#   print()\n",
        "\n",
        "# Кто написал роман «Война и мир»?\n",
        "# datasource='live_assistant'\n",
        "\n",
        "# Назовите столицу Франции.\n",
        "# datasource='live_assistant'\n",
        "\n",
        "# Чему равна сумма углов треугольника?\n",
        "# datasource='live_assistant'\n",
        "\n",
        "# Кто открыл закон всемирного тяготения?\n",
        "# datasource='live_assistant'\n",
        "\n",
        "# Что такое фотосинтез?\n",
        "# datasource='live_assistant'\n",
        "\n",
        "# В каком году началась Вторая мировая война?\n",
        "# datasource='live_assistant'\n",
        "\n",
        "# Какова формула воды?\n",
        "# datasource='live_assistant'\n",
        "\n",
        "# Перечислите падежи русского языка.\n",
        "# datasource='live_assistant'\n",
        "\n",
        "# Что показывает географическая широта точки на Земле?\n",
        "# datasource='live_assistant'\n",
        "\n",
        "# Какой орган отвечает за перекачивание крови в организме человека?\n",
        "# datasource='live_assistant'"
      ]
    },
    {
      "cell_type": "markdown",
      "id": "v7mea7Ze31_s",
      "metadata": {
        "id": "v7mea7Ze31_s"
      },
      "source": [
        "## Retrieval Grader (оценка документа из DB на соответствие вопросу)\n"
      ]
    },
    {
      "cell_type": "code",
      "execution_count": 32,
      "id": "856801cb-f42a-44e7-956f-47845e3664ca",
      "metadata": {
        "colab": {
          "base_uri": "https://localhost:8080/"
        },
        "id": "856801cb-f42a-44e7-956f-47845e3664ca",
        "outputId": "63398eed-3d7d-4e64-f28b-41c2fe30d608"
      },
      "outputs": [
        {
          "name": "stdout",
          "output_type": "stream",
          "text": [
            "[GradeDocuments(binary_score='yes'), GradeDocuments(binary_score='no'), GradeDocuments(binary_score='no'), GradeDocuments(binary_score='no')]\n"
          ]
        }
      ],
      "source": [
        "# Data model\n",
        "class GradeDocuments(BaseModel):\n",
        "    \"\"\"Binary score for relevance check on retrieved documents.\"\"\"\n",
        "\n",
        "    binary_score: str = Field(\n",
        "        description=\"Documents are relevant to the question, 'yes' or 'no'\"\n",
        "    )\n",
        "\n",
        "\n",
        "# LLM with function call\n",
        "llm = ChatOpenAI(model=\"gpt-4o-mini\", temperature=0)\n",
        "structured_llm_grader = llm.with_structured_output(GradeDocuments)\n",
        "\n",
        "# Prompt\n",
        "system = \"\"\"You are a grader assessing relevance of a retrieved document to a user question. \\n\n",
        "    If the document contains keyword(s) or semantic meaning related to the user question, grade it as relevant. \\n\n",
        "    It does not need to be a stringent test. The goal is to filter out erroneous retrievals. \\n\n",
        "    Give a binary score 'yes' or 'no' score to indicate whether the document is relevant to the question.\"\"\"\n",
        "grade_prompt = ChatPromptTemplate.from_messages(\n",
        "    [\n",
        "        (\"system\", system),\n",
        "        (\"human\", \"Retrieved document: \\n\\n {document} \\n\\n User question: {question}\"),\n",
        "    ]\n",
        ")\n",
        "\n",
        "retrieval_grader = grade_prompt | structured_llm_grader\n",
        "\n",
        "question = \"Какие спутники были выведены на орбиту с помощью ракеты-носителя 'Протон-К' с космодрома Байконур после двухмесячного перерыва?\"\n",
        "docs = retriever.invoke(question)\n",
        "\n",
        "grade=[]\n",
        "for doc in docs:\n",
        "  grade.append(retrieval_grader.invoke({\"question\": question, \"document\": doc.page_content}))\n",
        "\n",
        "print(grade)\n",
        "\n",
        "\n",
        "# question = \"Кто написал роман «Война и мир»?\"\n",
        "# docs = retriever.get_relevant_documents(question)\n",
        "# docs = retriever.invoke(question)\n",
        "# for doc in docs:\n",
        "#   print(retrieval_grader.invoke({\"question\": question, \"document\": doc.page_content}))\n",
        "\n",
        "\n",
        "# binary_score='no'\n",
        "# binary_score='no'\n",
        "# binary_score='no'\n",
        "# binary_score='no'"
      ]
    },
    {
      "cell_type": "code",
      "execution_count": 32,
      "id": "Ly6tSBfX_C_F",
      "metadata": {
        "id": "Ly6tSBfX_C_F"
      },
      "outputs": [],
      "source": []
    },
    {
      "cell_type": "markdown",
      "id": "oguWrQfZ71D1",
      "metadata": {
        "id": "oguWrQfZ71D1"
      },
      "source": [
        "### test doc retriver"
      ]
    },
    {
      "cell_type": "code",
      "execution_count": 33,
      "id": "QJk-LoVFWBcI",
      "metadata": {
        "id": "QJk-LoVFWBcI"
      },
      "outputs": [],
      "source": [
        "# test relevant questions (0 error)\n",
        "\n",
        "# for question in Q_relevant:\n",
        "#   print(question)\n",
        "#   docs = retriever.invoke(question)\n",
        "#   print('----------------------------------------------------------------------')\n",
        "#   for doc in docs:\n",
        "#     print(retrieval_grader.invoke({\"question\": question, \"document\": doc.page_content}))\n",
        "#   print('----------------------------------------------------------------------')\n",
        "#   print()\n",
        "\n",
        "# Какие меры были предприняты в Южно-Сахалинске для борьбы со вспышкой холеры среди жителей поселков Христофоровка и Октябрьский?\n",
        "# ----------------------------------------------------------------------\n",
        "# binary_score='yes'\n",
        "# binary_score='no'\n",
        "# binary_score='no'\n",
        "# binary_score='no'\n",
        "# ----------------------------------------------------------------------\n",
        "\n",
        "# Какую сумму, по данным МВД России и американских спецслужб, получил Шамиль Басаев и сколько из этой суммы он уже истратил во время боевой кампании в Дагестане?\n",
        "# ----------------------------------------------------------------------\n",
        "# binary_score='yes'\n",
        "# binary_score='no'\n",
        "# binary_score='no'\n",
        "# binary_score='no'\n",
        "# ----------------------------------------------------------------------\n",
        "\n",
        "# Какие спутники были выведены на орбиту с помощью ракеты-носителя 'Протон-К' с космодрома Байконур после двухмесячного перерыва?\n",
        "# ----------------------------------------------------------------------\n",
        "# binary_score='yes'\n",
        "# binary_score='no'\n",
        "# binary_score='no'\n",
        "# binary_score='no'\n",
        "# ----------------------------------------------------------------------\n",
        "\n",
        "# За что Павел Бородин планирует подать в суд на газету 'Corriere della Sera' и на некоторые российские СМИ?\n",
        "# ----------------------------------------------------------------------\n",
        "# binary_score='yes'\n",
        "# binary_score='no'\n",
        "# binary_score='no'\n",
        "# binary_score='no'\n",
        "# ----------------------------------------------------------------------\n",
        "\n",
        "# Какое основное нарушение налогового законодательства было выявлено Министерством по налогам и сборам при массовых проверках автозаправочных станций?\n",
        "# ----------------------------------------------------------------------\n",
        "# binary_score='yes'\n",
        "# binary_score='no'\n",
        "# binary_score='no'\n",
        "# binary_score='no'\n",
        "# ----------------------------------------------------------------------\n",
        "\n",
        "# Сколько, по предварительным данным, составляют запасы газа в открытом месторождении в районе Каспийского моря, относящемся к территории Азербайджана?\n",
        "# ----------------------------------------------------------------------\n",
        "# binary_score='yes'\n",
        "# binary_score='no'\n",
        "# binary_score='no'\n",
        "# binary_score='no'\n",
        "# ----------------------------------------------------------------------\n",
        "\n",
        "# Кто является возбудителем менингита в Волгограде, и каким образом этот вирус передается человеку?\n",
        "# ----------------------------------------------------------------------\n",
        "# binary_score='yes'\n",
        "# binary_score='no'\n",
        "# binary_score='no'\n",
        "# binary_score='no'\n",
        "# ----------------------------------------------------------------------\n",
        "\n",
        "# Почему Израиль начал освобождение палестинских заключённых и сколько человек вышло на свободу в первой группе?\n",
        "# ----------------------------------------------------------------------\n",
        "# binary_score='yes'\n",
        "# binary_score='no'\n",
        "# binary_score='no'\n",
        "# binary_score='no'\n",
        "# ----------------------------------------------------------------------\n",
        "\n",
        "# Какие населённые пункты Чеченской республики были подвергнуты ракетно-бомбовым ударам в ночь и утро, согласно сведениям МВД Чечни?\n",
        "# ----------------------------------------------------------------------\n",
        "# binary_score='yes'\n",
        "# binary_score='yes'\n",
        "# binary_score='no'\n",
        "# binary_score='no'\n",
        "# ----------------------------------------------------------------------\n",
        "\n",
        "# Какую разработанную учеными систему задержали на приморском участке российско-китайской границы и в чем заключалась её двойная направленность?\n",
        "# ----------------------------------------------------------------------\n",
        "# binary_score='yes'\n",
        "# binary_score='no'\n",
        "# binary_score='no'\n",
        "# binary_score='no'\n",
        "# ----------------------------------------------------------------------\n",
        "\n",
        "# Кто получил главный приз 56-го Венецианского международного кинофестиваля и за какой фильм?\n",
        "# ----------------------------------------------------------------------\n",
        "# binary_score='yes'\n",
        "# binary_score='no'\n",
        "# binary_score='no'\n",
        "# binary_score='no'\n",
        "# ----------------------------------------------------------------------"
      ]
    },
    {
      "cell_type": "code",
      "execution_count": 34,
      "id": "SgK6rA2xfBwH",
      "metadata": {
        "id": "SgK6rA2xfBwH"
      },
      "outputs": [],
      "source": [
        "# test irrelevant questions (0 error)\n",
        "\n",
        "# for question in Q_not_relevant:\n",
        "#   print(question)\n",
        "#   docs = retriever.invoke(question)\n",
        "#   print('----------------------------------------------------------------------')\n",
        "#   for doc in docs:\n",
        "#     print(retrieval_grader.invoke({\"question\": question, \"document\": doc.page_content}))\n",
        "#   print('----------------------------------------------------------------------')\n",
        "#   print()\n",
        "\n",
        "\n",
        "# ----------------------------------------------------------------------\n",
        "\n",
        "# Кто открыл закон всемирного тяготения?\n",
        "# ----------------------------------------------------------------------\n",
        "# binary_score='no'\n",
        "# binary_score='no'\n",
        "# binary_score='no'\n",
        "# binary_score='no'\n",
        "# ----------------------------------------------------------------------\n",
        "\n",
        "# Что такое фотосинтез?\n",
        "# ----------------------------------------------------------------------\n",
        "# binary_score='no'\n",
        "# binary_score='no'\n",
        "# binary_score='no'\n",
        "# binary_score='no'\n",
        "# ----------------------------------------------------------------------\n",
        "\n",
        "# В каком году началась Вторая мировая война?\n",
        "# ----------------------------------------------------------------------\n",
        "# binary_score='no'\n",
        "# binary_score='no'\n",
        "# binary_score='no'\n",
        "# binary_score='no'\n",
        "# ----------------------------------------------------------------------\n",
        "\n",
        "# Какова формула воды?\n",
        "# ----------------------------------------------------------------------\n",
        "# binary_score='no'\n",
        "# binary_score='no'\n",
        "# binary_score='no'\n",
        "# binary_score='no'\n",
        "# ----------------------------------------------------------------------\n",
        "\n",
        "# Перечислите падежи русского языка.\n",
        "# ----------------------------------------------------------------------\n",
        "# binary_score='no'\n",
        "# binary_score='no'\n",
        "# binary_score='no'\n",
        "# binary_score='no'\n",
        "# ----------------------------------------------------------------------\n",
        "\n",
        "# Что показывает географическая широта точки на Земле?\n",
        "# ----------------------------------------------------------------------\n",
        "# binary_score='no'\n",
        "# binary_score='no'\n",
        "# binary_score='no'\n",
        "# binary_score='no'\n",
        "# ----------------------------------------------------------------------\n",
        "\n",
        "# Какой орган отвечает за перекачивание крови в организме человека?\n",
        "# ----------------------------------------------------------------------\n",
        "# binary_score='no'\n",
        "# binary_score='no'\n",
        "# binary_score='no'\n",
        "# binary_score='no'\n",
        "# ----------------------------------------------------------------------"
      ]
    },
    {
      "cell_type": "markdown",
      "id": "CnV0r0Xo411x",
      "metadata": {
        "id": "CnV0r0Xo411x"
      },
      "source": [
        "## Generate (Генерация ответа на вопрос на основании документов)"
      ]
    },
    {
      "cell_type": "code",
      "execution_count": 35,
      "id": "Iuzx25Gm5GTU",
      "metadata": {
        "id": "Iuzx25Gm5GTU"
      },
      "outputs": [],
      "source": [
        "from langchain import hub\n",
        "from langchain_core.output_parsers import StrOutputParser"
      ]
    },
    {
      "cell_type": "code",
      "execution_count": 36,
      "id": "2272333e-50b2-42ab-b472-e1055a3b94a8",
      "metadata": {
        "colab": {
          "base_uri": "https://localhost:8080/"
        },
        "id": "2272333e-50b2-42ab-b472-e1055a3b94a8",
        "outputId": "289fa0b1-65e9-4539-9088-8e71c901d674"
      },
      "outputs": [
        {
          "name": "stderr",
          "output_type": "stream",
          "text": [
            "/usr/local/lib/python3.11/dist-packages/langsmith/client.py:272: LangSmithMissingAPIKeyWarning: API key must be provided when using hosted LangSmith API\n",
            "  warnings.warn(\n"
          ]
        },
        {
          "name": "stdout",
          "output_type": "stream",
          "text": [
            "docs len: 4\n",
            "Какие спутники были выведены на орбиту с помощью ракеты-носителя 'Протон-К' с космодрома Байконур после двухмесячного перерыва?\n",
            "С помощью ракеты-носителя 'Протон-К' с космодрома Байконур были выведены спутники связи \"Ямал-100\" и \"Ямал-100М\" после двухмесячного перерыва из-за аварии предыдущей ракеты этого класса. Спутники успешно выведены на геостационарную орбиту и станут основой системы спутниковой связи и вещания \"Ямал\". Ракета-носитель \"Протон\" снова летает над Казахстаном.\n"
          ]
        }
      ],
      "source": [
        "### Generate\n",
        "\n",
        "from langchain import hub\n",
        "from langchain_core.output_parsers import StrOutputParser\n",
        "\n",
        "# Prompt\n",
        "prompt = hub.pull(\"rlm/rag-prompt\")\n",
        "\n",
        "prompt.messages[0].prompt.template = \"\"\"You are an assistant for question-answering tasks.\n",
        "Use the following pieces of retrieved context to answer the question.\n",
        "If you don't know the answer, just say that you don't know.\n",
        "Use three sentences maximum and keep the answer concise.\n",
        "Answer only in Russian.\n",
        "Question: {question}\n",
        "Context: {context}\n",
        "Answer:\"\"\"\n",
        "\n",
        "# LLM\n",
        "llm = ChatOpenAI(model_name=\"gpt-3.5-turbo\", temperature=0)\n",
        "\n",
        "\n",
        "# Post-processing\n",
        "def format_docs(docs):\n",
        "    return \"\\n\\n\".join(doc.page_content for doc in docs)\n",
        "\n",
        "\n",
        "# Chain\n",
        "rag_chain = prompt | llm | StrOutputParser()\n",
        "\n",
        "# Run\n",
        "generation = rag_chain.invoke({\"context\": docs, \"question\": question})\n",
        "print(f\"docs len: {len(docs)}\")\n",
        "print(question)\n",
        "print(generation)"
      ]
    },
    {
      "cell_type": "code",
      "execution_count": 37,
      "id": "qRwsUBBq64U8",
      "metadata": {
        "id": "qRwsUBBq64U8"
      },
      "outputs": [],
      "source": [
        "#prompt = hub.pull(\"rlm/rag-prompt\")"
      ]
    },
    {
      "cell_type": "code",
      "execution_count": 38,
      "id": "ht_5SFW369Ry",
      "metadata": {
        "id": "ht_5SFW369Ry"
      },
      "outputs": [],
      "source": [
        "#prompt.messages[0].prompt.template"
      ]
    },
    {
      "cell_type": "code",
      "execution_count": 39,
      "id": "uoQS4zta5MIR",
      "metadata": {
        "id": "uoQS4zta5MIR"
      },
      "outputs": [],
      "source": [
        "#docs[0].model_dump().keys()"
      ]
    },
    {
      "cell_type": "markdown",
      "id": "-eCLW06vAHHV",
      "metadata": {
        "id": "-eCLW06vAHHV"
      },
      "source": [
        "## Hallucination Grader (Проверка основывается ли ответ на фактах)\n",
        "\n"
      ]
    },
    {
      "cell_type": "code",
      "execution_count": 40,
      "id": "f0c08d14-77a0-4eed-b882-2d636abb22a3",
      "metadata": {
        "colab": {
          "base_uri": "https://localhost:8080/"
        },
        "id": "f0c08d14-77a0-4eed-b882-2d636abb22a3",
        "outputId": "15d14a6c-d448-4c75-bfa0-5b9bbc94e9d4"
      },
      "outputs": [
        {
          "data": {
            "text/plain": [
              "GradeHallucinations(binary_score='yes')"
            ]
          },
          "execution_count": 40,
          "metadata": {},
          "output_type": "execute_result"
        }
      ],
      "source": [
        "\n",
        "# Data model\n",
        "class GradeHallucinations(BaseModel):\n",
        "    \"\"\"Binary score for hallucination present in generation answer.\"\"\"\n",
        "\n",
        "    binary_score: str = Field(\n",
        "        description=\"Answer is grounded in the facts, 'yes' or 'no'\"\n",
        "    )\n",
        "\n",
        "\n",
        "# LLM with function call\n",
        "llm = ChatOpenAI(model=\"gpt-4o-mini\", temperature=0)\n",
        "structured_llm_grader = llm.with_structured_output(GradeHallucinations)\n",
        "\n",
        "# Prompt\n",
        "system = \"\"\"You are a grader assessing whether an LLM generation is grounded in / supported by a set of retrieved facts.\n",
        "Facts and generation can be in different languages. \\n\n",
        "     Give a binary score 'yes' or 'no'. 'Yes' means that the answer is grounded in / supported by the set of facts.\"\"\"\n",
        "hallucination_prompt = ChatPromptTemplate.from_messages(\n",
        "    [\n",
        "        (\"system\", system),\n",
        "        (\"human\", \"Set of facts: \\n\\n {documents} \\n\\n LLM generation: {generation}\"),\n",
        "    ]\n",
        ")\n",
        "\n",
        "hallucination_grader = hallucination_prompt | structured_llm_grader\n",
        "hallucination_grader.invoke({\"documents\": docs, \"generation\": generation})"
      ]
    },
    {
      "cell_type": "code",
      "execution_count": 40,
      "id": "WL2h8z0k68JI",
      "metadata": {
        "id": "WL2h8z0k68JI"
      },
      "outputs": [],
      "source": []
    },
    {
      "cell_type": "markdown",
      "id": "cSwvebptA59O",
      "metadata": {
        "id": "cSwvebptA59O"
      },
      "source": [
        "## Answer Grader (Проверка отвечает ли ответ на вопрос)"
      ]
    },
    {
      "cell_type": "code",
      "execution_count": 41,
      "id": "ded99680-437a-4c9d-b860-619c88949d84",
      "metadata": {
        "colab": {
          "base_uri": "https://localhost:8080/"
        },
        "id": "ded99680-437a-4c9d-b860-619c88949d84",
        "outputId": "13ba8b2b-6f18-44a1-a4e6-4e4967bfeca5"
      },
      "outputs": [
        {
          "data": {
            "text/plain": [
              "GradeAnswer(binary_score='yes')"
            ]
          },
          "execution_count": 41,
          "metadata": {},
          "output_type": "execute_result"
        }
      ],
      "source": [
        "# Data model\n",
        "class GradeAnswer(BaseModel):\n",
        "    \"\"\"Binary score to assess answer addresses question.\"\"\"\n",
        "\n",
        "    binary_score: str = Field(\n",
        "        description=\"Answer addresses the question, 'yes' or 'no'\"\n",
        "    )\n",
        "\n",
        "\n",
        "# LLM with function call\n",
        "llm = ChatOpenAI(model=\"gpt-4o-mini\", temperature=0)\n",
        "structured_llm_grader = llm.with_structured_output(GradeAnswer)\n",
        "\n",
        "# Prompt\n",
        "system = \"\"\"You are a grader assessing whether an answer addresses / resolves a question \\n\n",
        "     Give a binary score 'yes' or 'no'. Yes' means that the answer resolves the question.\"\"\"\n",
        "answer_prompt = ChatPromptTemplate.from_messages(\n",
        "    [\n",
        "        (\"system\", system),\n",
        "        (\"human\", \"User question: \\n\\n {question} \\n\\n LLM generation: {generation}\"),\n",
        "    ]\n",
        ")\n",
        "\n",
        "answer_grader = answer_prompt | structured_llm_grader\n",
        "answer_grader.invoke({\"question\": question, \"generation\": generation})"
      ]
    },
    {
      "cell_type": "markdown",
      "id": "o8sy6ikLDrwE",
      "metadata": {
        "id": "o8sy6ikLDrwE"
      },
      "source": [
        "## Question Re-writer (\"Переписывает вопрос для улучшения поиска релевантных документов\")"
      ]
    },
    {
      "cell_type": "code",
      "execution_count": 42,
      "id": "9d75f1d7-a47a-4577-bb0d-84b504b0867e",
      "metadata": {
        "colab": {
          "base_uri": "https://localhost:8080/"
        },
        "id": "9d75f1d7-a47a-4577-bb0d-84b504b0867e",
        "outputId": "81de8e06-f25f-441e-d561-3b93c7774e10"
      },
      "outputs": [
        {
          "name": "stdout",
          "output_type": "stream",
          "text": [
            "original question: \n",
            "Какие спутники были выведены на орбиту с помощью ракеты-носителя 'Протон-К' с космодрома Байконур после двухмесячного перерыва?\n",
            "\n",
            "rewrite question: \n",
            "Какие спутники были запущены на орбиту с помощью ракеты-носителя 'Протон-К' с космодрома Байконур после двухмесячного перерыва?\n"
          ]
        }
      ],
      "source": [
        "# LLM\n",
        "llm = ChatOpenAI(model=\"gpt-4o-mini\", temperature=0)\n",
        "\n",
        "# Prompt\n",
        "system = \"\"\"You a question re-writer that converts an input question to a better version that is optimized \\n\n",
        "     for vectorstore retrieval. Look at the input and try to reason about the underlying semantic intent / meaning.\"\"\"\n",
        "re_write_prompt = ChatPromptTemplate.from_messages(\n",
        "    [\n",
        "        (\"system\", system),\n",
        "        (\n",
        "            \"human\",\n",
        "            \"Here is the initial question: \\n\\n {question} \\n Formulate an improved question.\",\n",
        "        ),\n",
        "    ]\n",
        ")\n",
        "\n",
        "question_rewriter = re_write_prompt | llm | StrOutputParser()\n",
        "print(f\"original question: \\n{question}\\n\")\n",
        "rewrite_question= question_rewriter.invoke({\"question\": question})\n",
        "print(f\"rewrite question: \\n{rewrite_question}\")"
      ]
    },
    {
      "cell_type": "code",
      "execution_count": 42,
      "id": "z4VDQthX-WDk",
      "metadata": {
        "id": "z4VDQthX-WDk"
      },
      "outputs": [],
      "source": []
    },
    {
      "cell_type": "markdown",
      "id": "d07c0b31-b919-4498-869f-9673125c2473",
      "metadata": {
        "id": "d07c0b31-b919-4498-869f-9673125c2473"
      },
      "source": [
        "## Web Search Tool (поиск в интернете, эмитация живого человека)"
      ]
    },
    {
      "cell_type": "code",
      "execution_count": 43,
      "id": "01d829bb-1074-4976-b650-ead41dcb9788",
      "metadata": {
        "colab": {
          "base_uri": "https://localhost:8080/"
        },
        "id": "01d829bb-1074-4976-b650-ead41dcb9788",
        "outputId": "20f9cbc0-7d35-43e6-bf08-93b32d05d487"
      },
      "outputs": [
        {
          "name": "stderr",
          "output_type": "stream",
          "text": [
            "/tmp/ipython-input-43-730760015.py:5: LangChainDeprecationWarning: The class `TavilySearchResults` was deprecated in LangChain 0.3.25 and will be removed in 1.0. An updated version of the class exists in the :class:`~langchain-tavily package and should be used instead. To use it run `pip install -U :class:`~langchain-tavily` and import as `from :class:`~langchain_tavily import TavilySearch``.\n",
            "  web_search_tool = TavilySearchResults(k=3)\n"
          ]
        }
      ],
      "source": [
        "### Search\n",
        "\n",
        "from langchain_community.tools.tavily_search import TavilySearchResults\n",
        "\n",
        "web_search_tool = TavilySearchResults(k=3)"
      ]
    },
    {
      "cell_type": "markdown",
      "id": "efbbff0e-8843-45bb-b2ff-137bef707ef4",
      "metadata": {
        "id": "efbbff0e-8843-45bb-b2ff-137bef707ef4"
      },
      "source": [
        "# Construct the Graph\n",
        "\n",
        "Capture the flow in as a graph.\n"
      ]
    },
    {
      "cell_type": "markdown",
      "id": "lOS7UryFzq7d",
      "metadata": {
        "id": "lOS7UryFzq7d"
      },
      "source": [
        "## Define Graph State"
      ]
    },
    {
      "cell_type": "code",
      "execution_count": 44,
      "id": "e723fcdb-06e6-402d-912e-899795b78408",
      "metadata": {
        "id": "e723fcdb-06e6-402d-912e-899795b78408"
      },
      "outputs": [],
      "source": [
        "import operator\n",
        "from typing import List, Annotated\n",
        "from typing_extensions import TypedDict\n",
        "\n",
        "\n",
        "class GraphState(TypedDict):\n",
        "    \"\"\"\n",
        "    Represents the state of our graph.\n",
        "\n",
        "    Attributes:\n",
        "        question: question\n",
        "        generation: LLM generation\n",
        "        documents: list of documents\n",
        "        loop_step: current generation retries for answer generation\n",
        "        max_retries: Max number of retries for answer generation\n",
        "    \"\"\"\n",
        "\n",
        "    question: str\n",
        "    generation: str\n",
        "    documents: List[str]\n",
        "    loop_step: int  # Annotated[int, operator.add]\n",
        "    loop_step_query: int\n",
        "    max_retries: int\n"
      ]
    },
    {
      "cell_type": "markdown",
      "id": "7e2d6c0d-42e8-4399-9751-e315be16607a",
      "metadata": {
        "id": "7e2d6c0d-42e8-4399-9751-e315be16607a"
      },
      "source": [
        "## Define Graph Flow"
      ]
    },
    {
      "cell_type": "code",
      "execution_count": 45,
      "id": "b76b5ec3-0720-443d-85b1-c0e79659ca0a",
      "metadata": {
        "id": "b76b5ec3-0720-443d-85b1-c0e79659ca0a"
      },
      "outputs": [],
      "source": [
        "from langchain.schema import Document\n",
        "\n",
        "\n",
        "def retrieve(state):\n",
        "    \"\"\"\n",
        "    Retrieve documents\n",
        "\n",
        "    Args:\n",
        "        state (dict): The current graph state\n",
        "\n",
        "    Returns:\n",
        "        state (dict): New key added to state, documents, that contains retrieved documents\n",
        "    \"\"\"\n",
        "    print(\"---RETRIEVE---\")\n",
        "    question = state[\"question\"]\n",
        "\n",
        "    # Retrieval\n",
        "    documents = retriever.invoke(question)\n",
        "    return {\"documents\": documents, \"question\": question} #question not need\n",
        "\n",
        "\n",
        "def generate(state):\n",
        "    \"\"\"\n",
        "    Generate answer\n",
        "\n",
        "    Args:\n",
        "        state (dict): The current graph state\n",
        "\n",
        "    Returns:\n",
        "        state (dict): New key added to state, generation, that contains LLM generation\n",
        "    \"\"\"\n",
        "    print(\"---GENERATE---\")\n",
        "    question = state[\"question\"]\n",
        "    documents = state[\"documents\"]\n",
        "    loop_step = state.get(\"loop_step\", 0)\n",
        "\n",
        "    # RAG generation\n",
        "    generation = rag_chain.invoke({\"context\": documents, \"question\": question})\n",
        "    #return {\"documents\": documents, \"question\": question, \"generation\": generation}\n",
        "    return {\"generation\": generation, \"loop_step\": loop_step + 1}\n",
        "\n",
        "def grade_documents(state):\n",
        "    \"\"\"\n",
        "    Determines whether the retrieved documents are relevant to the question.\n",
        "\n",
        "    Args:\n",
        "        state (dict): The current graph state\n",
        "\n",
        "    Returns:\n",
        "        state (dict): Updates documents key with only filtered relevant documents\n",
        "    \"\"\"\n",
        "\n",
        "    print(\"---CHECK DOCUMENT RELEVANCE TO QUESTION---\")\n",
        "    question = state[\"question\"]\n",
        "    documents = state[\"documents\"]\n",
        "\n",
        "    # Score each doc\n",
        "    filtered_docs = []\n",
        "    for d in documents:\n",
        "        score = retrieval_grader.invoke(\n",
        "            {\"question\": question, \"document\": d.page_content}\n",
        "        )\n",
        "        grade = score.binary_score\n",
        "        if grade == \"yes\":\n",
        "            print(\"---GRADE: DOCUMENT RELEVANT---\")\n",
        "            filtered_docs.append(d)\n",
        "        else:\n",
        "            print(\"---GRADE: DOCUMENT NOT RELEVANT---\")\n",
        "            continue\n",
        "    return {\"documents\": filtered_docs, \"question\": question}\n",
        "\n",
        "\n",
        "def transform_query(state):\n",
        "    \"\"\"\n",
        "    Transform the query to produce a better question.\n",
        "\n",
        "    Args:\n",
        "        state (dict): The current graph state\n",
        "\n",
        "    Returns:\n",
        "        state (dict): Updates question key with a re-phrased question\n",
        "    \"\"\"\n",
        "\n",
        "    print(\"---TRANSFORM QUERY---\")\n",
        "    question = state[\"question\"]\n",
        "    #documents = state[\"documents\"]\n",
        "    loop_step_query = state.get(\"loop_step_query\", 0)\n",
        "    print(f\"!!!transform_query loop_step: {state['loop_step']}, loop_step_query: {loop_step_query}!!! \")\n",
        "    # Re-write question\n",
        "    better_question = question_rewriter.invoke({\"question\": question})\n",
        "    # return {\"documents\": documents, \"question\": better_question}\n",
        "    return {\"question\": better_question, \"loop_step_query\": loop_step_query + 1}\n",
        "\n",
        "\n",
        "def web_search(state):\n",
        "    \"\"\"\n",
        "    Web search based on the re-phrased question.\n",
        "\n",
        "    Args:\n",
        "        state (dict): The current graph state\n",
        "\n",
        "    Returns:\n",
        "        state (dict): Updates documents key with appended web results\n",
        "    \"\"\"\n",
        "\n",
        "    print(\"---WEB SEARCH---\")\n",
        "    question = state[\"question\"]\n",
        "\n",
        "    # Web search\n",
        "    docs = web_search_tool.invoke({\"query\": question})\n",
        "    web_results = \"\\n\".join([d[\"content\"] for d in docs])\n",
        "    web_results = Document(page_content=web_results)\n",
        "\n",
        "    return {\"documents\": web_results, \"question\": question}\n",
        "\n",
        "\n",
        "### Edges ###\n",
        "\n",
        "\n",
        "def route_question(state):\n",
        "    \"\"\"\n",
        "    Route question to web search or RAG.\n",
        "\n",
        "    Args:\n",
        "        state (dict): The current graph state\n",
        "\n",
        "    Returns:\n",
        "        str: Next node to call\n",
        "    \"\"\"\n",
        "\n",
        "    print(\"---ROUTE QUESTION---\")\n",
        "    question = state[\"question\"]\n",
        "    source = question_router.invoke({\"question\": question})\n",
        "    if source.datasource == \"live_assistant\":\n",
        "        print(\"---ROUTE QUESTION TO WEB SEARCH---\")\n",
        "        return \"live_assistant\"\n",
        "    elif source.datasource == \"vectorstore\":\n",
        "        print(\"---ROUTE QUESTION TO RAG---\")\n",
        "        return \"vectorstore\"\n",
        "\n",
        "\n",
        "def decide_to_generate(state):\n",
        "    \"\"\"\n",
        "    Determines whether to generate an answer, or re-generate a question.\n",
        "\n",
        "    Args:\n",
        "        state (dict): The current graph state\n",
        "\n",
        "    Returns:\n",
        "        str: Binary decision for next node to call\n",
        "    \"\"\"\n",
        "\n",
        "    print(\"---ASSESS GRADED DOCUMENTS---\")\n",
        "    state[\"question\"]\n",
        "    filtered_documents = state[\"documents\"]\n",
        "    max_retries = state.get(\"max_retries\", 2)  # Default to 5 if not provided\n",
        "    loop_step_query = state.get(\"loop_step_query\", 0)\n",
        "\n",
        "    if loop_step_query >= max_retries:\n",
        "        print(\"---DECISION: MAX RETRIES REACHED---\")\n",
        "        return \"max retries\"\n",
        "\n",
        "    if not filtered_documents:\n",
        "        # All documents have been filtered check_relevance\n",
        "        # We will re-generate a new query\n",
        "        print(\n",
        "            \"---DECISION: ALL DOCUMENTS ARE NOT RELEVANT TO QUESTION, TRANSFORM QUERY---\"\n",
        "        )\n",
        "        return \"transform_query\"\n",
        "    else:\n",
        "        # We have relevant documents, so generate answer\n",
        "        print(\"---DECISION: GENERATE---\")\n",
        "        return \"generate\"\n",
        "\n",
        "\n",
        "def grade_generation_v_documents_and_question(state):\n",
        "    \"\"\"\n",
        "    Determines whether the generation is grounded in the document and answers question.\n",
        "\n",
        "    Args:\n",
        "        state (dict): The current graph state\n",
        "\n",
        "    Returns:\n",
        "        str: Decision for next node to call\n",
        "    \"\"\"\n",
        "\n",
        "    print(\"---CHECK HALLUCINATIONS---\")\n",
        "    question = state[\"question\"]\n",
        "    documents = state[\"documents\"]\n",
        "    generation = state[\"generation\"]\n",
        "    max_retries = state.get(\"max_retries\", 5)  # Default to 5 if not provided\n",
        "\n",
        "    score = hallucination_grader.invoke(\n",
        "        {\"documents\": documents, \"generation\": generation}\n",
        "    )\n",
        "    grade = score.binary_score\n",
        "\n",
        "    # Check hallucination\n",
        "    if grade == \"yes\":\n",
        "        print(\"---DECISION: GENERATION IS GROUNDED IN DOCUMENTS---\")\n",
        "        # Check question-answering\n",
        "        print(\"---GRADE GENERATION vs QUESTION---\")\n",
        "        score = answer_grader.invoke({\"question\": question, \"generation\": generation})\n",
        "        grade = score.binary_score\n",
        "        if grade == \"yes\":\n",
        "            print(\"---DECISION: GENERATION ADDRESSES QUESTION---\")\n",
        "            return \"useful\"\n",
        "        # else:\n",
        "        #     print(\"---DECISION: GENERATION DOES NOT ADDRESS QUESTION---\")\n",
        "        #     return \"not useful\"\n",
        "        elif state[\"loop_step\"] <= max_retries:\n",
        "            print(\"---DECISION: GENERATION DOES NOT ADDRESS QUESTION---\")\n",
        "            return \"not useful\"\n",
        "        else:\n",
        "            print(\"---DECISION: MAX RETRIES REACHED---\")\n",
        "            return \"max retries\"\n",
        "    # else:\n",
        "    #     pprint(\"---DECISION: GENERATION IS NOT GROUNDED IN DOCUMENTS, RE-TRY---\")\n",
        "    #     return \"not supported\"\n",
        "    elif state[\"loop_step\"] <= max_retries:\n",
        "        print(\"---DECISION: GENERATION IS NOT GROUNDED IN DOCUMENTS, RE-TRY---\")\n",
        "        return \"not supported\"\n",
        "    else:\n",
        "        print(\"---DECISION: MAX RETRIES REACHED---\")\n",
        "        return \"max retries\""
      ]
    },
    {
      "cell_type": "markdown",
      "id": "3ab01f36-5628-49ab-bfd3-84bb6f1a1b0f",
      "metadata": {
        "id": "3ab01f36-5628-49ab-bfd3-84bb6f1a1b0f"
      },
      "source": [
        "## Compile Graph"
      ]
    },
    {
      "cell_type": "code",
      "execution_count": 46,
      "id": "67854e07-9293-4c3c-bf9a-bc9a605570ee",
      "metadata": {
        "id": "67854e07-9293-4c3c-bf9a-bc9a605570ee"
      },
      "outputs": [],
      "source": [
        "from langgraph.graph import END, StateGraph, START\n",
        "\n",
        "workflow = StateGraph(GraphState)\n",
        "\n",
        "# Define the nodes\n",
        "workflow.add_node(\"live_assistant\", web_search)  # web search\n",
        "workflow.add_node(\"retrieve\", retrieve)  # retrieve\n",
        "workflow.add_node(\"grade_documents\", grade_documents)  # grade documents\n",
        "workflow.add_node(\"generate\", generate)  # generate\n",
        "workflow.add_node(\"transform_query\", transform_query)  # transform_query\n",
        "\n",
        "# Build graph\n",
        "workflow.add_conditional_edges(\n",
        "    START,\n",
        "    route_question,\n",
        "    {\n",
        "        \"live_assistant\": \"live_assistant\",\n",
        "        \"vectorstore\": \"retrieve\",\n",
        "    },\n",
        ")\n",
        "workflow.add_edge(\"live_assistant\", \"generate\")\n",
        "workflow.add_edge(\"retrieve\", \"grade_documents\")\n",
        "workflow.add_conditional_edges(\n",
        "    \"grade_documents\",\n",
        "    decide_to_generate,\n",
        "    {\n",
        "        \"transform_query\": \"transform_query\",\n",
        "        \"generate\": \"generate\",\n",
        "        \"max retries\": \"live_assistant\",\n",
        "    },\n",
        ")\n",
        "workflow.add_edge(\"transform_query\", \"retrieve\")\n",
        "workflow.add_conditional_edges(\n",
        "    \"generate\",\n",
        "    grade_generation_v_documents_and_question,\n",
        "    {\n",
        "        \"not supported\": \"generate\",\n",
        "        \"useful\": END,\n",
        "        \"not useful\": \"transform_query\",\n",
        "        \"max retries\": END,\n",
        "    },\n",
        ")\n",
        "\n",
        "# Compile\n",
        "app = workflow.compile()"
      ]
    },
    {
      "cell_type": "markdown",
      "id": "kc4IB51xzdKW",
      "metadata": {
        "id": "kc4IB51xzdKW"
      },
      "source": [
        "# Graph schema"
      ]
    },
    {
      "cell_type": "code",
      "execution_count": 47,
      "id": "HQqlJQgV-RZj",
      "metadata": {
        "colab": {
          "base_uri": "https://localhost:8080/",
          "height": 695
        },
        "id": "HQqlJQgV-RZj",
        "outputId": "b9921016-f7ba-41e3-9fb6-55ad3e14af92"
      },
      "outputs": [
        {
          "data": {
            "image/png": "[encoded data removed]",
            "text/plain": [
              "<IPython.core.display.Image object>"
            ]
          },
          "metadata": {},
          "output_type": "display_data"
        }
      ],
      "source": [
        "from IPython.display import Image, display\n",
        "\n",
        "try:\n",
        "    display(Image(app.get_graph(xray=True).draw_mermaid_png()))\n",
        "except Exception:\n",
        "    # This requires some extra dependencies and is optional\n",
        "    pass"
      ]
    },
    {
      "cell_type": "markdown",
      "id": "85bce541",
      "metadata": {
        "id": "85bce541"
      },
      "source": [
        "# Use Graph"
      ]
    },
    {
      "cell_type": "markdown",
      "id": "JMdEA0983Jfm",
      "metadata": {
        "id": "JMdEA0983Jfm"
      },
      "source": [
        "## test 1"
      ]
    },
    {
      "cell_type": "code",
      "execution_count": 48,
      "id": "29acc541-d726-4b75-84d1-a215845fe88a",
      "metadata": {
        "colab": {
          "base_uri": "https://localhost:8080/"
        },
        "id": "29acc541-d726-4b75-84d1-a215845fe88a",
        "outputId": "e1670cc4-a3cd-45dc-9b72-ef8be6332cbb"
      },
      "outputs": [
        {
          "name": "stdout",
          "output_type": "stream",
          "text": [
            "---ROUTE QUESTION---\n",
            "---ROUTE QUESTION TO WEB SEARCH---\n",
            "---WEB SEARCH---\n",
            "\"Node 'live_assistant':\"\n",
            "'\\n---\\n'\n",
            "---GENERATE---\n",
            "---CHECK HALLUCINATIONS---\n",
            "---DECISION: GENERATION IS GROUNDED IN DOCUMENTS---\n",
            "---GRADE GENERATION vs QUESTION---\n",
            "---DECISION: GENERATION ADDRESSES QUESTION---\n",
            "\"Node 'generate':\"\n",
            "'\\n---\\n'\n",
            "('Чикаго Бирс ожидается выбрать Калеба Уильямса с первым пиком на драфте НФЛ '\n",
            " '2024 года.')\n"
          ]
        }
      ],
      "source": [
        "from pprint import pprint\n",
        "\n",
        "# Run\n",
        "inputs = {\n",
        "    \"question\": \"What player at the Bears expected to draft first in the 2024 NFL draft?\"\n",
        "}\n",
        "for output in app.stream(inputs):\n",
        "    for key, value in output.items():\n",
        "        # Node\n",
        "        pprint(f\"Node '{key}':\")\n",
        "        # Optional: print full state at each node\n",
        "        # pprint.pprint(value[\"keys\"], indent=2, width=80, depth=None)\n",
        "    pprint(\"\\n---\\n\")\n",
        "\n",
        "# Final generation\n",
        "pprint(value[\"generation\"])"
      ]
    },
    {
      "cell_type": "markdown",
      "id": "JnQuGPX-3OMT",
      "metadata": {
        "id": "JnQuGPX-3OMT"
      },
      "source": [
        "## test 2"
      ]
    },
    {
      "cell_type": "markdown",
      "id": "11fddd00-58bf-4910-bf36-be9e5bfba778",
      "metadata": {
        "id": "11fddd00-58bf-4910-bf36-be9e5bfba778"
      },
      "source": [
        "Trace:\n",
        "\n",
        "https://smith.langchain.com/public/7e3aa7e5-c51f-45c2-bc66-b34f17ff2263/r"
      ]
    },
    {
      "cell_type": "code",
      "execution_count": 49,
      "id": "69a985dd-03c6-45af-a67b-b15746a2cb5f",
      "metadata": {
        "colab": {
          "base_uri": "https://localhost:8080/"
        },
        "id": "69a985dd-03c6-45af-a67b-b15746a2cb5f",
        "outputId": "0a289e35-71fb-4c94-c4c4-4673b4f211bf"
      },
      "outputs": [
        {
          "name": "stdout",
          "output_type": "stream",
          "text": [
            "---ROUTE QUESTION---\n",
            "---ROUTE QUESTION TO WEB SEARCH---\n",
            "---WEB SEARCH---\n",
            "\"Node 'live_assistant':\"\n",
            "'\\n---\\n'\n",
            "---GENERATE---\n",
            "---CHECK HALLUCINATIONS---\n",
            "---DECISION: GENERATION IS GROUNDED IN DOCUMENTS---\n",
            "---GRADE GENERATION vs QUESTION---\n",
            "---DECISION: GENERATION ADDRESSES QUESTION---\n",
            "\"Node 'generate':\"\n",
            "'\\n---\\n'\n",
            "('Типы памяти агента - это краткосрочная и долгосрочная память. Краткосрочная '\n",
            " 'память поддерживает мгновенный контекст в пределах одного взаимодействия. '\n",
            " 'Долгосрочная память сохраняет знания через сессии, задачи и время.')\n"
          ]
        }
      ],
      "source": [
        "# Run\n",
        "inputs = {\"question\": \"What are the types of agent memory?\"}\n",
        "for output in app.stream(inputs):\n",
        "    for key, value in output.items():\n",
        "        # Node\n",
        "        pprint(f\"Node '{key}':\")\n",
        "        # Optional: print full state at each node\n",
        "        # pprint.pprint(value[\"keys\"], indent=2, width=80, depth=None)\n",
        "    pprint(\"\\n---\\n\")\n",
        "\n",
        "# Final generation\n",
        "pprint(value[\"generation\"])"
      ]
    },
    {
      "cell_type": "markdown",
      "id": "ebf41097-fc4c-4072-95b3-e7e07731ada1",
      "metadata": {
        "id": "ebf41097-fc4c-4072-95b3-e7e07731ada1"
      },
      "source": [
        "Trace:\n",
        "\n",
        "https://smith.langchain.com/public/fdf0a180-6d15-4d09-bb92-f84f2105ca51/r"
      ]
    },
    {
      "cell_type": "markdown",
      "id": "bAEgbzcP3Qk6",
      "metadata": {
        "id": "bAEgbzcP3Qk6"
      },
      "source": [
        "## test 3"
      ]
    },
    {
      "cell_type": "code",
      "execution_count": 50,
      "id": "pKMl9ptIv6S9",
      "metadata": {
        "colab": {
          "base_uri": "https://localhost:8080/"
        },
        "id": "pKMl9ptIv6S9",
        "outputId": "7261556a-23f2-4b16-c7ec-454a168a4b70"
      },
      "outputs": [
        {
          "name": "stdout",
          "output_type": "stream",
          "text": [
            "---ROUTE QUESTION---\n",
            "---ROUTE QUESTION TO RAG---\n",
            "---RETRIEVE---\n",
            "---CHECK DOCUMENT RELEVANCE TO QUESTION---\n",
            "---GRADE: DOCUMENT RELEVANT---\n",
            "---GRADE: DOCUMENT RELEVANT---\n",
            "---GRADE: DOCUMENT RELEVANT---\n",
            "---GRADE: DOCUMENT NOT RELEVANT---\n",
            "---ASSESS GRADED DOCUMENTS---\n",
            "---DECISION: GENERATE---\n",
            "---GENERATE---\n",
            "---CHECK HALLUCINATIONS---\n",
            "---DECISION: GENERATION IS GROUNDED IN DOCUMENTS---\n",
            "---GRADE GENERATION vs QUESTION---\n",
            "---DECISION: GENERATION DOES NOT ADDRESS QUESTION---\n",
            "---TRANSFORM QUERY---\n",
            "!!!transform_query loop_step: 1, loop_step_query: 0!!! \n",
            "---RETRIEVE---\n",
            "---CHECK DOCUMENT RELEVANCE TO QUESTION---\n",
            "---GRADE: DOCUMENT NOT RELEVANT---\n",
            "---GRADE: DOCUMENT NOT RELEVANT---\n",
            "---GRADE: DOCUMENT NOT RELEVANT---\n",
            "---GRADE: DOCUMENT NOT RELEVANT---\n",
            "---ASSESS GRADED DOCUMENTS---\n",
            "---DECISION: ALL DOCUMENTS ARE NOT RELEVANT TO QUESTION, TRANSFORM QUERY---\n",
            "---TRANSFORM QUERY---\n",
            "!!!transform_query loop_step: 1, loop_step_query: 1!!! \n",
            "---RETRIEVE---\n",
            "---CHECK DOCUMENT RELEVANCE TO QUESTION---\n",
            "---GRADE: DOCUMENT NOT RELEVANT---\n",
            "---GRADE: DOCUMENT NOT RELEVANT---\n",
            "---GRADE: DOCUMENT NOT RELEVANT---\n",
            "---GRADE: DOCUMENT NOT RELEVANT---\n",
            "---ASSESS GRADED DOCUMENTS---\n",
            "---DECISION: MAX RETRIES REACHED---\n",
            "---WEB SEARCH---\n",
            "---GENERATE---\n",
            "---CHECK HALLUCINATIONS---\n",
            "---DECISION: GENERATION IS GROUNDED IN DOCUMENTS---\n",
            "---GRADE GENERATION vs QUESTION---\n",
            "---DECISION: GENERATION DOES NOT ADDRESS QUESTION---\n",
            "---TRANSFORM QUERY---\n",
            "!!!transform_query loop_step: 2, loop_step_query: 2!!! \n",
            "---RETRIEVE---\n",
            "---CHECK DOCUMENT RELEVANCE TO QUESTION---\n",
            "---GRADE: DOCUMENT NOT RELEVANT---\n",
            "---GRADE: DOCUMENT NOT RELEVANT---\n",
            "---GRADE: DOCUMENT NOT RELEVANT---\n",
            "---GRADE: DOCUMENT NOT RELEVANT---\n",
            "---ASSESS GRADED DOCUMENTS---\n",
            "---DECISION: MAX RETRIES REACHED---\n",
            "---WEB SEARCH---\n",
            "---GENERATE---\n",
            "---CHECK HALLUCINATIONS---\n",
            "---DECISION: GENERATION IS GROUNDED IN DOCUMENTS---\n",
            "---GRADE GENERATION vs QUESTION---\n",
            "---DECISION: GENERATION ADDRESSES QUESTION---\n"
          ]
        }
      ],
      "source": [
        "# q= \"What player at the Bears expected to draft first in the 2024 NFL draft?\"\n",
        "# q = \"Назовите столицу Франции.\"\n",
        "#q = \"Какие населённые пункты Чеченской республики были подвергнуты ракетно-бомбовым ударам в ночь и утро, согласно сведениям МВД Чечни?\"\n",
        "q= \"Югославия\"\n",
        "#rez1 = app.invoke({\"question\": q})\n",
        "rez3 = app.invoke({\"question\": q})"
      ]
    },
    {
      "cell_type": "code",
      "execution_count": 51,
      "id": "EF5mhUaEzLm2",
      "metadata": {
        "colab": {
          "base_uri": "https://localhost:8080/"
        },
        "id": "EF5mhUaEzLm2",
        "outputId": "d2c7ab88-d836-45ed-ebf3-2486118d7ed9"
      },
      "outputs": [
        {
          "data": {
            "text/plain": [
              "dict_keys(['question', 'generation', 'documents', 'loop_step', 'loop_step_query'])"
            ]
          },
          "execution_count": 51,
          "metadata": {},
          "output_type": "execute_result"
        }
      ],
      "source": [
        "rez3.keys()"
      ]
    },
    {
      "cell_type": "code",
      "execution_count": 52,
      "id": "H3geJdMjCuFf",
      "metadata": {
        "colab": {
          "base_uri": "https://localhost:8080/"
        },
        "id": "H3geJdMjCuFf",
        "outputId": "d2365e5a-b168-4a07-9b92-4a5558f91e84"
      },
      "outputs": [
        {
          "data": {
            "text/plain": [
              "Document(metadata={}, page_content=\"Yugoslavia (/ˌjuːɡoʊˈslɑːviə/; lit.\\u2009'Land of the South Slavs') was a country in the Balkans that existed from 1918 to 1992. It came into existence following World War I, under the name of the Kingdom of Serbs, Croats and Slovenes from the merger of the Kingdom of Serbia with the provisional State of Slovenes, Croats and Serbs, and constituted the first union of South Slavic peoples as a sovereign state, following centuries of foreign rule over the region under the Ottoman Empire and the [...] | History |  |\\n|  | |\\n| • Creation | 1 December 1918 |\\n| • Axis invasion | 6 April 1941 |\\n| • Abolition of monarchy | 29 November 1945 |\\n| • Disintegration | 27 April 1992 |\\n|  | |\\n| Population | |\\n|  | |\\n| • 1955 | 17,522,438 |\\n| • 1965 | 19,489,605 |\\n| • 1975 | 21,441,297 |\\n| • 1985 | 23,121,383 |\\n| • 1991 | 23,532,279 |\\n|  | |\\n| Currency | Yugoslav dinar |\\n| Calling code | 38 |\\n| ISO 3166 code | YU |\\n| Internet TLD | .yu |\\nelaborate history of migratory movements from various places, religious conversions, and different kinds of cultural hybridization had thoroughly and repeatedly jumbled and reset the pieces of the ethnic mosaic. For this reason, contacts, cultural transfers, and cultural interweaving on various levels always played a major role. [...] because of their faith. As important as the common cultural roots, shared language, and regional cohabitation were, the disparate historical-political traditions, espe-cially those rooted in the different religious worldviews, created fissures too deep to allow the idea of a general Yugoslav identity to gain any ground with-out having to resort to instrumentalization “from above.” Not until the creation in 1918 of the Kingdom of Serbs, Croats, and Slovenes did a strong agency for socialization [...] Every general overview needs a perspective and a focal point that decide how to select topics and questions. No narrative, therefore, can do without condensing and generalizing. Certain subjects that are the standard narrative of Yugoslavia’s political history were kept short so as to better examine the deeper underlying socioeconomic and cultural dynamics and the daily life of common people in addition to the events and major actors. The chronological narrative alternates with cross-sectional\\nCultural Highlights | everythingyugoslavia\\n\\n===============\\n\\neverythingyugoslavia\\n\\neverythingyugoslavia\\n\\n   Home\\n   Historical Events\\n   Cultural Highlights\\n   Travel Guide\\n\\nCultural Highlights\\n===================\\n\\nServices\\n========\\n\\nImage 1\\n\\nTraditions\\n----------\\n\\nlearn more about the diverse and beautiful tradition of Yugoslavia\\n\\nImage 2\\n\\nCuisine\\n-------\\n\\nlearn about the various dishes that was created in Yugoslavia\\n\\nImage 3\\n\\nArt\\n--- [...] Traditional costumes were often adorned with vibrant colors, embroidery, and jewelry, symbolizing the wearer's heritage and status.\\n\\nFestivals and CelebrationsReligious Holidays\\n\\nYugoslavia was home to a mix of religions: Orthodox Christianity, Catholicism, and Islam. Each religious community had distinct traditions:\\n\\nChristmas (Božić): Celebrated by both Orthodox and Catholic Christians, but with differences in customs and dates. [...] Weddings were elaborate, multi-day events involving music, food, and symbolic rituals: \\n       Breaking of Bread: In Serbian weddings, the bride and groom pull apart a ceremonial bread; the larger piece signifies good fortune.\\n       Processions: Wedding processions included singing, dancing, and the display of regional costumes.\\n\\n   Family ties were highly valued, with gatherings centered on meals and storytelling.\\n\\nSports and Recreational Traditions\\nThe long history of peoples and movements throughout the Balkans has situated Yugoslavia in a particularly interesting position culturally, geographically, and politically. Although the region has experienced many fascinating historical transformations, one significant event in particular changed the course of local, regional, and even global history. Indeed, the breakup of Yugoslavia has had a profound and lasting impact on the Balkans, Europe, and the world. Within the Balkans, the history of\\nThe Balkan Peninsula has always been a crossroads of cultures. The Illyrians, Greeks, Celts, and Romans had settlements here before the Slavs moved into the region from the north around the seventh century. During the next millennium and a half, the western part of the peninsula — which would become Yugoslavia — was divided by a series of cultural, ethnic, and religious fault lines.\")"
            ]
          },
          "execution_count": 52,
          "metadata": {},
          "output_type": "execute_result"
        }
      ],
      "source": [
        "rez3['documents']"
      ]
    },
    {
      "cell_type": "code",
      "execution_count": 53,
      "id": "9BUgUflazRkY",
      "metadata": {
        "colab": {
          "base_uri": "https://localhost:8080/"
        },
        "id": "9BUgUflazRkY",
        "outputId": "075dd894-a65e-4ad5-c4d0-83d3eae7f437"
      },
      "outputs": [
        {
          "data": {
            "text/plain": [
              "(3, 3)"
            ]
          },
          "execution_count": 53,
          "metadata": {},
          "output_type": "execute_result"
        }
      ],
      "source": [
        "rez3['loop_step_query'], rez3['loop_step']"
      ]
    },
    {
      "cell_type": "code",
      "execution_count": 54,
      "id": "ErjH_wEzBjUx",
      "metadata": {
        "colab": {
          "base_uri": "https://localhost:8080/",
          "height": 88
        },
        "id": "ErjH_wEzBjUx",
        "outputId": "d5b5cb8c-df57-41da-ed6c-ccf98c419f99"
      },
      "outputs": [
        {
          "data": {
            "application/vnd.google.colaboratory.intrinsic+json": {
              "type": "string"
            },
            "text/plain": [
              "'Создание Королевства Сербов, Хорватов и Словенцев в 1918 году объединило южнославянские народы в суверенное государство после столетий иностранного владычества. Религиозные конверсии, культурные гибридизации и миграционные движения сформировали сложный этнический мозаичный образ. Различные историко-политические традиции и религиозные взгляды создали пропасти, которые мешали формированию общего югославского идентитета.'"
            ]
          },
          "execution_count": 54,
          "metadata": {},
          "output_type": "execute_result"
        }
      ],
      "source": [
        "rez3['generation']"
      ]
    },
    {
      "cell_type": "code",
      "execution_count": 55,
      "id": "YAzWC7qjDpln",
      "metadata": {
        "colab": {
          "base_uri": "https://localhost:8080/"
        },
        "id": "YAzWC7qjDpln",
        "outputId": "83b7e484-0a9e-4483-9e76-e18d92d9bcc0"
      },
      "outputs": [
        {
          "data": {
            "text/plain": [
              "dict_keys(['question', 'generation', 'documents', 'loop_step', 'loop_step_query'])"
            ]
          },
          "execution_count": 55,
          "metadata": {},
          "output_type": "execute_result"
        }
      ],
      "source": [
        "rez3.keys()"
      ]
    },
    {
      "cell_type": "code",
      "execution_count": 56,
      "id": "6m8AY_CmE-_u",
      "metadata": {
        "colab": {
          "base_uri": "https://localhost:8080/"
        },
        "id": "6m8AY_CmE-_u",
        "outputId": "2d945d65-3787-4262-a9d4-35adce8b44e1"
      },
      "outputs": [
        {
          "name": "stdout",
          "output_type": "stream",
          "text": [
            "What key historical events and cultural traits have shaped the history of Yugoslavia?\n",
            "Создание Королевства Сербов, Хорватов и Словенцев в 1918 году объединило южнославянские народы в суверенное государство после столетий иностранного владычества. Религиозные конверсии, культурные гибридизации и миграционные движения сформировали сложный этнический мозаичный образ. Различные историко-политические традиции и религиозные взгляды создали пропасти, которые мешали формированию общего югославского идентитета.\n"
          ]
        }
      ],
      "source": [
        "print(rez3['question'])\n",
        "print(rez3['generation'])\n",
        "#print(rez1['documents'])"
      ]
    },
    {
      "cell_type": "code",
      "execution_count": 57,
      "id": "HDu0nWpTFDCF",
      "metadata": {
        "colab": {
          "base_uri": "https://localhost:8080/",
          "height": 177
        },
        "id": "HDu0nWpTFDCF",
        "outputId": "aabee50e-2bc0-49cd-d081-0a2d332d28a5"
      },
      "outputs": [
        {
          "data": {
            "application/vnd.google.colaboratory.intrinsic+json": {
              "type": "string"
            },
            "text/plain": [
              "\"Yugoslavia (/ˌjuːɡoʊˈslɑːviə/; lit.\\u2009'Land of the South Slavs') was a country in the Balkans that existed from 1918 to 1992. It came into existence following World War I, under the name of the Kingdom of Serbs, Croats and Slovenes from the merger of the Kingdom of Serbia with the provisional State of Slovenes, Croats and Serbs, and constituted the first union of South Slavic peoples as a sovereign state, following centuries of foreign rule over the region under the Ottoman Empire and the [...] | History |  |\\n|  | |\\n| • Creation | 1 December 1918 |\\n| • Axis invasion | 6 April 1941 |\\n| • Abolition of monarchy | 29 November 1945 |\\n| • Disintegration | 27 April 1992 |\\n|  | |\\n| Population | |\\n|  | |\\n| • 1955 | 17,522,438 |\\n| • 1965 | 19,489,605 |\\n| • 1975 | 21,441,297 |\\n| • 1985 | 23,121,383 |\\n| • 1991 | 23,532,279 |\\n|  | |\\n| Currency | Yugoslav dinar |\\n| Calling code | 38 |\\n| ISO 3166 code | YU |\\n| Internet TLD | .yu |\\nelaborate history of migratory movements from various places, religious conversions, and different kinds of cultural hybridization had thoroughly and repeatedly jumbled and reset the pieces of the ethnic mosaic. For this reason, contacts, cultural transfers, and cultural interweaving on various levels always played a major role. [...] because of their faith. As important as the common cultural roots, shared language, and regional cohabitation were, the disparate historical-political traditions, espe-cially those rooted in the different religious worldviews, created fissures too deep to allow the idea of a general Yugoslav identity to gain any ground with-out having to resort to instrumentalization “from above.” Not until the creation in 1918 of the Kingdom of Serbs, Croats, and Slovenes did a strong agency for socialization [...] Every general overview needs a perspective and a focal point that decide how to select topics and questions. No narrative, therefore, can do without condensing and generalizing. Certain subjects that are the standard narrative of Yugoslavia’s political history were kept short so as to better examine the deeper underlying socioeconomic and cultural dynamics and the daily life of common people in addition to the events and major actors. The chronological narrative alternates with cross-sectional\\nCultural Highlights | everythingyugoslavia\\n\\n===============\\n\\neverythingyugoslavia\\n\\neverythingyugoslavia\\n\\n   Home\\n   Historical Events\\n   Cultural Highlights\\n   Travel Guide\\n\\nCultural Highlights\\n===================\\n\\nServices\\n========\\n\\nImage 1\\n\\nTraditions\\n----------\\n\\nlearn more about the diverse and beautiful tradition of Yugoslavia\\n\\nImage 2\\n\\nCuisine\\n-------\\n\\nlearn about the various dishes that was created in Yugoslavia\\n\\nImage 3\\n\\nArt\\n--- [...] Traditional costumes were often adorned with vibrant colors, embroidery, and jewelry, symbolizing the wearer's heritage and status.\\n\\nFestivals and CelebrationsReligious Holidays\\n\\nYugoslavia was home to a mix of religions: Orthodox Christianity, Catholicism, and Islam. Each religious community had distinct traditions:\\n\\nChristmas (Božić): Celebrated by both Orthodox and Catholic Christians, but with differences in customs and dates. [...] Weddings were elaborate, multi-day events involving music, food, and symbolic rituals: \\n       Breaking of Bread: In Serbian weddings, the bride and groom pull apart a ceremonial bread; the larger piece signifies good fortune.\\n       Processions: Wedding processions included singing, dancing, and the display of regional costumes.\\n\\n   Family ties were highly valued, with gatherings centered on meals and storytelling.\\n\\nSports and Recreational Traditions\\nThe long history of peoples and movements throughout the Balkans has situated Yugoslavia in a particularly interesting position culturally, geographically, and politically. Although the region has experienced many fascinating historical transformations, one significant event in particular changed the course of local, regional, and even global history. Indeed, the breakup of Yugoslavia has had a profound and lasting impact on the Balkans, Europe, and the world. Within the Balkans, the history of\\nThe Balkan Peninsula has always been a crossroads of cultures. The Illyrians, Greeks, Celts, and Romans had settlements here before the Slavs moved into the region from the north around the seventh century. During the next millennium and a half, the western part of the peninsula — which would become Yugoslavia — was divided by a series of cultural, ethnic, and religious fault lines.\""
            ]
          },
          "execution_count": 57,
          "metadata": {},
          "output_type": "execute_result"
        }
      ],
      "source": [
        "rez3['documents'].page_content"
      ]
    },
    {
      "cell_type": "markdown",
      "id": "iGtH6k5jDB7b",
      "metadata": {
        "id": "iGtH6k5jDB7b"
      },
      "source": [
        "# UI Gradio"
      ]
    },
    {
      "cell_type": "code",
      "execution_count": 58,
      "id": "PFqCvUEaDE3l",
      "metadata": {
        "id": "PFqCvUEaDE3l"
      },
      "outputs": [],
      "source": [
        "import gradio as gr"
      ]
    },
    {
      "cell_type": "markdown",
      "id": "vEWOrPfeXTYQ",
      "metadata": {
        "id": "vEWOrPfeXTYQ"
      },
      "source": [
        "## test 1"
      ]
    },
    {
      "cell_type": "code",
      "execution_count": 59,
      "id": "ahWtHsHACbTn",
      "metadata": {
        "colab": {
          "base_uri": "https://localhost:8080/",
          "height": 1000
        },
        "id": "ahWtHsHACbTn",
        "outputId": "8e9ae1a2-9f31-483b-edfd-04bf973bf1d0"
      },
      "outputs": [
        {
          "name": "stderr",
          "output_type": "stream",
          "text": [
            "/tmp/ipython-input-59-2612881764.py:23: UserWarning: You have not specified a value for the `type` parameter. Defaulting to the 'tuples' format for chatbot messages, but this is deprecated and will be removed in a future version of Gradio. Please set type='messages' instead, which uses openai-style dictionaries with 'role' and 'content' keys.\n",
            "  chatbot=gr.Chatbot(),\n",
            "/usr/local/lib/python3.11/dist-packages/gradio/chat_interface.py:322: UserWarning: The gr.ChatInterface was not provided with a type, so the type of the gr.Chatbot, 'tuples', will be used.\n",
            "  warnings.warn(\n"
          ]
        },
        {
          "name": "stdout",
          "output_type": "stream",
          "text": [
            "Colab notebook detected. This cell will run indefinitely so that you can see errors and logs. To turn off, set debug=False in launch().\n",
            "* Running on public URL: https://5327c8da73d809418d.gradio.live\n",
            "\n",
            "This share link expires in 1 week. For free permanent hosting and GPU upgrades, run `gradio deploy` from the terminal in the working directory to deploy to Hugging Face Spaces (https://huggingface.co/spaces)\n"
          ]
        },
        {
          "data": {
            "text/html": [
              "<div><iframe src=\"https://5327c8da73d809418d.gradio.live\" width=\"100%\" height=\"500\" allow=\"autoplay; camera; microphone; clipboard-read; clipboard-write;\" frameborder=\"0\" allowfullscreen></iframe></div>"
            ],
            "text/plain": [
              "<IPython.core.display.HTML object>"
            ]
          },
          "metadata": {},
          "output_type": "display_data"
        },
        {
          "name": "stdout",
          "output_type": "stream",
          "text": [
            "---ROUTE QUESTION---\n",
            "---ROUTE QUESTION TO RAG---\n",
            "---RETRIEVE---\n",
            "---CHECK DOCUMENT RELEVANCE TO QUESTION---\n",
            "---GRADE: DOCUMENT RELEVANT---\n",
            "---GRADE: DOCUMENT NOT RELEVANT---\n",
            "---GRADE: DOCUMENT NOT RELEVANT---\n",
            "---GRADE: DOCUMENT NOT RELEVANT---\n",
            "---ASSESS GRADED DOCUMENTS---\n",
            "---DECISION: GENERATE---\n",
            "---GENERATE---\n",
            "---CHECK HALLUCINATIONS---\n",
            "---DECISION: GENERATION IS NOT GROUNDED IN DOCUMENTS, RE-TRY---\n",
            "---GENERATE---\n",
            "---CHECK HALLUCINATIONS---\n",
            "---DECISION: GENERATION IS NOT GROUNDED IN DOCUMENTS, RE-TRY---\n",
            "---GENERATE---\n",
            "---CHECK HALLUCINATIONS---\n",
            "---DECISION: GENERATION IS NOT GROUNDED IN DOCUMENTS, RE-TRY---\n",
            "---GENERATE---\n",
            "---CHECK HALLUCINATIONS---\n",
            "---DECISION: GENERATION IS NOT GROUNDED IN DOCUMENTS, RE-TRY---\n",
            "---GENERATE---\n",
            "---CHECK HALLUCINATIONS---\n",
            "---DECISION: GENERATION IS NOT GROUNDED IN DOCUMENTS, RE-TRY---\n",
            "---GENERATE---\n",
            "---CHECK HALLUCINATIONS---\n",
            "---DECISION: MAX RETRIES REACHED---\n",
            "Keyboard interruption in main thread... closing server.\n",
            "Killing tunnel 127.0.0.1:7860 <> https://5327c8da73d809418d.gradio.live\n"
          ]
        },
        {
          "data": {
            "text/plain": []
          },
          "execution_count": 59,
          "metadata": {},
          "output_type": "execute_result"
        }
      ],
      "source": [
        "def chat_function(message: str, history: list[tuple[str, str]]) -> str:\n",
        "    result = app.invoke({\"question\": message})\n",
        "    if type(result['documents']) == Document:\n",
        "      # DB do not have relevant docs\n",
        "      answer = f\"\"\"Младший менеджер(по материалам Базы знаний) не смог найти ответ.\n",
        "      Отвечает Старший менеджер(web_search):\\n\"\"\" + result[\"generation\"]\n",
        "    elif type(result['documents']) is list and len(result['documents']) > 0:\n",
        "      doc_ref = \"\\n\\n\\nСсылки на источники в БД.\\n\"\n",
        "      for doc in result['documents']:\n",
        "        #doc_ref += \"id: \" + doc.metadata['id'] + \"\\n\"\n",
        "        doc_ref += \"title: \" + doc.metadata['title'] + \"\\n\"\n",
        "        doc_ref += \"url: \" + doc.metadata['url'] + \"\\n\"\n",
        "        doc_ref += \"\\n\"\n",
        "      answer = \"Младший менеджер(по материалам Базы знаний) отвечает: \\n\" + result[\"generation\"] + doc_ref\n",
        "    else:\n",
        "       answer = \"Младший менеджер(по материалам Базы знаний) отвечает: \\n я не смог найти ответ в базе знаний и старший менеджер не знает\"\n",
        "    return answer\n",
        "\n",
        "# Интерфейс чата\n",
        "chat_ui = gr.ChatInterface(\n",
        "    fn=chat_function,\n",
        "    title=\"🧠 Простой чат без истории (LangGraph + Gradio)\",\n",
        "    chatbot=gr.Chatbot(),\n",
        "    textbox=gr.Textbox(placeholder=\"Введите вопрос...\", lines=1),\n",
        "    description=\"Отвечает на вопросы без использования истории сообщений.\",\n",
        ")\n",
        "\n",
        "# if __name__ == \"__main__\":\n",
        "#     chat_ui.launch()\n",
        "chat_ui.launch(share=True, debug=True)"
      ]
    },
    {
      "cell_type": "code",
      "execution_count": 60,
      "id": "2rBawyEYC3AI",
      "metadata": {
        "id": "2rBawyEYC3AI"
      },
      "outputs": [],
      "source": [
        "# \"Назовите столицу Франции.\"\n",
        "Q_relevant = [\n",
        "\"Какие меры были предприняты в Южно-Сахалинске для борьбы со вспышкой холеры среди жителей поселков Христофоровка и Октябрьский?\",\n",
        "\"Какую сумму, по данным МВД России и американских спецслужб, получил Шамиль Басаев и сколько из этой суммы он уже истратил во время боевой кампании в Дагестане?\",\n",
        "\"Какие спутники были выведены на орбиту с помощью ракеты-носителя 'Протон-К' с космодрома Байконур после двухмесячного перерыва?\",\n",
        "\"За что Павел Бородин планирует подать в суд на газету 'Corriere della Sera' и на некоторые российские СМИ?\",\n",
        "\"Какое основное нарушение налогового законодательства было выявлено Министерством по налогам и сборам при массовых проверках автозаправочных станций?\",\n",
        "\"Сколько, по предварительным данным, составляют запасы газа в открытом месторождении в районе Каспийского моря, относящемся к территории Азербайджана?\",\n",
        "\"Кто является возбудителем менингита в Волгограде, и каким образом этот вирус передается человеку?\",\n",
        "\"Почему Израиль начал освобождение палестинских заключённых и сколько человек вышло на свободу в первой группе?\",\n",
        "\"Какие населённые пункты Чеченской республики были подвергнуты ракетно-бомбовым ударам в ночь и утро, согласно сведениям МВД Чечни?\",\n",
        "\"Какую разработанную учеными систему задержали на приморском участке российско-китайской границы и в чем заключалась её двойная направленность?\",\n",
        "\"Кто получил главный приз 56-го Венецианского международного кинофестиваля и за какой фильм?\"\n",
        "]"
      ]
    },
    {
      "cell_type": "code",
      "execution_count": 61,
      "id": "Is-VG_9shjVY",
      "metadata": {
        "id": "Is-VG_9shjVY"
      },
      "outputs": [],
      "source": [
        "Q_not_relevant = [\n",
        "    \"Кто написал роман «Война и мир»?\",\n",
        "    \"Назовите столицу Франции.\",\n",
        "    \"Чему равна сумма углов треугольника?\",\n",
        "    \"Кто открыл закон всемирного тяготения?\",\n",
        "    \"Что такое фотосинтез?\",\n",
        "    \"В каком году началась Вторая мировая война?\",\n",
        "    \"Какова формула воды?\",\n",
        "    \"Перечислите падежи русского языка.\",\n",
        "    \"Что показывает географическая широта точки на Земле?\",\n",
        "    \"Какой орган отвечает за перекачивание крови в организме человека?\"\n",
        "]"
      ]
    },
    {
      "cell_type": "markdown",
      "id": "upTN-eZ7-Kxa",
      "metadata": {
        "id": "upTN-eZ7-Kxa"
      },
      "source": [
        "# link to Langsmith\n",
        "Trace how can work system for question \"Югославия\"\n",
        "\n",
        "https://smith.langchain.com/public/7922a7b2-6019-45ec-9bf7-b45f7da166b7/r"
      ]
    },
    {
      "cell_type": "code",
      "execution_count": 61,
      "id": "kAHPlQvb-FJo",
      "metadata": {
        "id": "kAHPlQvb-FJo"
      },
      "outputs": [],
      "source": []
    }
  ],
  "metadata": {
    "colab": {
      "collapsed_sections": [
        "3JaFS2c9-Woc"
      ],
      "provenance": [],
      "toc_visible": true
    },
    "kernelspec": {
      "display_name": "Python 3 (ipykernel)",
      "language": "python",
      "name": "python3"
    },
    "language_info": {
      "codemirror_mode": {
        "name": "ipython",
        "version": 3
      },
      "file_extension": ".py",
      "mimetype": "text/x-python",
      "name": "python",
      "nbconvert_exporter": "python",
      "pygments_lexer": "ipython3",
      "version": "3.11.8"
    }
  },
  "nbformat": 4,
  "nbformat_minor": 5
}
